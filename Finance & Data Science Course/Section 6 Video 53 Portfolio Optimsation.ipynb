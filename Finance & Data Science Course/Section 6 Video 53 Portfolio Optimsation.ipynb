{
 "cells": [
  {
   "cell_type": "markdown",
   "id": "76ec94b6",
   "metadata": {},
   "source": [
    "# Portfolio Optimisation (Markovitz Resampling to find the Efficient Frontier)"
   ]
  },
  {
   "cell_type": "markdown",
   "id": "1a3fda68",
   "metadata": {},
   "source": [
    "### Libraries + Set up Returns DF"
   ]
  },
  {
   "cell_type": "code",
   "execution_count": 3,
   "id": "97af9529-58a4-49e6-9a3b-40261f59e357",
   "metadata": {
    "tags": []
   },
   "outputs": [],
   "source": [
    "import pandas as pd\n",
    "import numpy as np\n",
    "import yfinance as yf"
   ]
  },
  {
   "cell_type": "code",
   "execution_count": 4,
   "id": "afd63afe-99b6-47f5-b562-5299a29beae6",
   "metadata": {
    "tags": []
   },
   "outputs": [
    {
     "name": "stderr",
     "output_type": "stream",
     "text": [
      "[*********************100%%**********************]  3 of 3 completed\n"
     ]
    },
    {
     "data": {
      "text/html": [
       "<div>\n",
       "<style scoped>\n",
       "    .dataframe tbody tr th:only-of-type {\n",
       "        vertical-align: middle;\n",
       "    }\n",
       "\n",
       "    .dataframe tbody tr th {\n",
       "        vertical-align: top;\n",
       "    }\n",
       "\n",
       "    .dataframe thead th {\n",
       "        text-align: right;\n",
       "    }\n",
       "</style>\n",
       "<table border=\"1\" class=\"dataframe\">\n",
       "  <thead>\n",
       "    <tr style=\"text-align: right;\">\n",
       "      <th></th>\n",
       "      <th>KO</th>\n",
       "      <th>MMM</th>\n",
       "      <th>MSFT</th>\n",
       "    </tr>\n",
       "    <tr>\n",
       "      <th>Date</th>\n",
       "      <th></th>\n",
       "      <th></th>\n",
       "      <th></th>\n",
       "    </tr>\n",
       "  </thead>\n",
       "  <tbody>\n",
       "    <tr>\n",
       "      <th>2015-01-05</th>\n",
       "      <td>0.000000</td>\n",
       "      <td>-0.022553</td>\n",
       "      <td>-0.009196</td>\n",
       "    </tr>\n",
       "    <tr>\n",
       "      <th>2015-01-06</th>\n",
       "      <td>0.007593</td>\n",
       "      <td>-0.010664</td>\n",
       "      <td>-0.014677</td>\n",
       "    </tr>\n",
       "    <tr>\n",
       "      <th>2015-01-07</th>\n",
       "      <td>0.012483</td>\n",
       "      <td>0.007249</td>\n",
       "      <td>0.012705</td>\n",
       "    </tr>\n",
       "    <tr>\n",
       "      <th>2015-01-08</th>\n",
       "      <td>0.012095</td>\n",
       "      <td>0.023968</td>\n",
       "      <td>0.029418</td>\n",
       "    </tr>\n",
       "    <tr>\n",
       "      <th>2015-01-09</th>\n",
       "      <td>-0.011032</td>\n",
       "      <td>-0.012284</td>\n",
       "      <td>-0.008405</td>\n",
       "    </tr>\n",
       "    <tr>\n",
       "      <th>...</th>\n",
       "      <td>...</td>\n",
       "      <td>...</td>\n",
       "      <td>...</td>\n",
       "    </tr>\n",
       "    <tr>\n",
       "      <th>2024-07-22</th>\n",
       "      <td>-0.007965</td>\n",
       "      <td>0.010104</td>\n",
       "      <td>0.013338</td>\n",
       "    </tr>\n",
       "    <tr>\n",
       "      <th>2024-07-23</th>\n",
       "      <td>0.002933</td>\n",
       "      <td>-0.002286</td>\n",
       "      <td>0.004312</td>\n",
       "    </tr>\n",
       "    <tr>\n",
       "      <th>2024-07-24</th>\n",
       "      <td>0.013085</td>\n",
       "      <td>-0.014132</td>\n",
       "      <td>-0.035855</td>\n",
       "    </tr>\n",
       "    <tr>\n",
       "      <th>2024-07-25</th>\n",
       "      <td>0.003951</td>\n",
       "      <td>0.001356</td>\n",
       "      <td>-0.024481</td>\n",
       "    </tr>\n",
       "    <tr>\n",
       "      <th>2024-07-26</th>\n",
       "      <td>0.000000</td>\n",
       "      <td>0.211964</td>\n",
       "      <td>0.016109</td>\n",
       "    </tr>\n",
       "  </tbody>\n",
       "</table>\n",
       "<p>2406 rows × 3 columns</p>\n",
       "</div>"
      ],
      "text/plain": [
       "                  KO       MMM      MSFT\n",
       "Date                                    \n",
       "2015-01-05  0.000000 -0.022553 -0.009196\n",
       "2015-01-06  0.007593 -0.010664 -0.014677\n",
       "2015-01-07  0.012483  0.007249  0.012705\n",
       "2015-01-08  0.012095  0.023968  0.029418\n",
       "2015-01-09 -0.011032 -0.012284 -0.008405\n",
       "...              ...       ...       ...\n",
       "2024-07-22 -0.007965  0.010104  0.013338\n",
       "2024-07-23  0.002933 -0.002286  0.004312\n",
       "2024-07-24  0.013085 -0.014132 -0.035855\n",
       "2024-07-25  0.003951  0.001356 -0.024481\n",
       "2024-07-26  0.000000  0.211964  0.016109\n",
       "\n",
       "[2406 rows x 3 columns]"
      ]
     },
     "execution_count": 4,
     "metadata": {},
     "output_type": "execute_result"
    }
   ],
   "source": [
    "df = yf.download(['MSFT','KO','MMM'], start = '2015-01-01')['Adj Close']\n",
    "df\n",
    "retdf= df.pct_change()\n",
    "retdf.dropna(inplace=True)\n",
    "retdf"
   ]
  },
  {
   "cell_type": "markdown",
   "id": "bd628b83",
   "metadata": {},
   "source": [
    "### Define a function to generate random weights"
   ]
  },
  {
   "cell_type": "code",
   "execution_count": 5,
   "id": "21f25ede-e5ff-4431-955c-85fc1c78addf",
   "metadata": {
    "tags": []
   },
   "outputs": [],
   "source": [
    "#creating/defining a function\n",
    "def give_weights():\n",
    "    rand = np.random.random(len(retdf.columns)) #create a vector of length n of random numbers \n",
    "    rand /= rand.sum() #divding all the these numbers by the sum will ensure all the weights sum to 1.\n",
    "    return rand"
   ]
  },
  {
   "cell_type": "markdown",
   "id": "893d8c47",
   "metadata": {},
   "source": [
    "### Pulling the Return, Std Deviation, Sharpe Ratio & Weights of each random Portfolio\n",
    "    - Make a data frame out of these metrics"
   ]
  },
  {
   "cell_type": "code",
   "execution_count": 11,
   "id": "568f2725-e98c-4f0c-a8ee-266629a374af",
   "metadata": {
    "tags": []
   },
   "outputs": [
    {
     "data": {
      "text/html": [
       "<div>\n",
       "<style scoped>\n",
       "    .dataframe tbody tr th:only-of-type {\n",
       "        vertical-align: middle;\n",
       "    }\n",
       "\n",
       "    .dataframe tbody tr th {\n",
       "        vertical-align: top;\n",
       "    }\n",
       "\n",
       "    .dataframe thead th {\n",
       "        text-align: right;\n",
       "    }\n",
       "</style>\n",
       "<table border=\"1\" class=\"dataframe\">\n",
       "  <thead>\n",
       "    <tr style=\"text-align: right;\">\n",
       "      <th></th>\n",
       "      <th>E.R.</th>\n",
       "      <th>St</th>\n",
       "      <th>Sharpe</th>\n",
       "      <th>weights</th>\n",
       "    </tr>\n",
       "  </thead>\n",
       "  <tbody>\n",
       "    <tr>\n",
       "      <th>0</th>\n",
       "      <td>0.000888</td>\n",
       "      <td>0.013905</td>\n",
       "      <td>0.063840</td>\n",
       "      <td>[0.21064008768111847, 0.0911994608564586, 0.69...</td>\n",
       "    </tr>\n",
       "    <tr>\n",
       "      <th>1</th>\n",
       "      <td>0.000833</td>\n",
       "      <td>0.013317</td>\n",
       "      <td>0.062523</td>\n",
       "      <td>[0.23779228148889278, 0.12947432826781657, 0.6...</td>\n",
       "    </tr>\n",
       "    <tr>\n",
       "      <th>2</th>\n",
       "      <td>0.000467</td>\n",
       "      <td>0.011612</td>\n",
       "      <td>0.040243</td>\n",
       "      <td>[0.33744674562878674, 0.44990277800023687, 0.2...</td>\n",
       "    </tr>\n",
       "    <tr>\n",
       "      <th>3</th>\n",
       "      <td>0.000637</td>\n",
       "      <td>0.012903</td>\n",
       "      <td>0.049358</td>\n",
       "      <td>[0.11703211849407295, 0.4455607188362677, 0.43...</td>\n",
       "    </tr>\n",
       "    <tr>\n",
       "      <th>4</th>\n",
       "      <td>0.000266</td>\n",
       "      <td>0.014615</td>\n",
       "      <td>0.018191</td>\n",
       "      <td>[0.08597817478896895, 0.8805983893791746, 0.03...</td>\n",
       "    </tr>\n",
       "    <tr>\n",
       "      <th>...</th>\n",
       "      <td>...</td>\n",
       "      <td>...</td>\n",
       "      <td>...</td>\n",
       "      <td>...</td>\n",
       "    </tr>\n",
       "    <tr>\n",
       "      <th>1995</th>\n",
       "      <td>0.000427</td>\n",
       "      <td>0.012266</td>\n",
       "      <td>0.034781</td>\n",
       "      <td>[0.2498285914824179, 0.5673882531367558, 0.182...</td>\n",
       "    </tr>\n",
       "    <tr>\n",
       "      <th>1996</th>\n",
       "      <td>0.000561</td>\n",
       "      <td>0.011392</td>\n",
       "      <td>0.049281</td>\n",
       "      <td>[0.37540362906806257, 0.3146094468432857, 0.30...</td>\n",
       "    </tr>\n",
       "    <tr>\n",
       "      <th>1997</th>\n",
       "      <td>0.000327</td>\n",
       "      <td>0.011455</td>\n",
       "      <td>0.028537</td>\n",
       "      <td>[0.49233215766283095, 0.4764221635664203, 0.03...</td>\n",
       "    </tr>\n",
       "    <tr>\n",
       "      <th>1998</th>\n",
       "      <td>0.000298</td>\n",
       "      <td>0.012928</td>\n",
       "      <td>0.023073</td>\n",
       "      <td>[0.266715640296229, 0.6950025064822178, 0.0382...</td>\n",
       "    </tr>\n",
       "    <tr>\n",
       "      <th>1999</th>\n",
       "      <td>0.000543</td>\n",
       "      <td>0.010794</td>\n",
       "      <td>0.050273</td>\n",
       "      <td>[0.6179355981507576, 0.1342761635224784, 0.247...</td>\n",
       "    </tr>\n",
       "  </tbody>\n",
       "</table>\n",
       "<p>2000 rows × 4 columns</p>\n",
       "</div>"
      ],
      "text/plain": [
       "          E.R.        St    Sharpe  \\\n",
       "0     0.000888  0.013905  0.063840   \n",
       "1     0.000833  0.013317  0.062523   \n",
       "2     0.000467  0.011612  0.040243   \n",
       "3     0.000637  0.012903  0.049358   \n",
       "4     0.000266  0.014615  0.018191   \n",
       "...        ...       ...       ...   \n",
       "1995  0.000427  0.012266  0.034781   \n",
       "1996  0.000561  0.011392  0.049281   \n",
       "1997  0.000327  0.011455  0.028537   \n",
       "1998  0.000298  0.012928  0.023073   \n",
       "1999  0.000543  0.010794  0.050273   \n",
       "\n",
       "                                                weights  \n",
       "0     [0.21064008768111847, 0.0911994608564586, 0.69...  \n",
       "1     [0.23779228148889278, 0.12947432826781657, 0.6...  \n",
       "2     [0.33744674562878674, 0.44990277800023687, 0.2...  \n",
       "3     [0.11703211849407295, 0.4455607188362677, 0.43...  \n",
       "4     [0.08597817478896895, 0.8805983893791746, 0.03...  \n",
       "...                                                 ...  \n",
       "1995  [0.2498285914824179, 0.5673882531367558, 0.182...  \n",
       "1996  [0.37540362906806257, 0.3146094468432857, 0.30...  \n",
       "1997  [0.49233215766283095, 0.4764221635664203, 0.03...  \n",
       "1998  [0.266715640296229, 0.6950025064822178, 0.0382...  \n",
       "1999  [0.6179355981507576, 0.1342761635224784, 0.247...  \n",
       "\n",
       "[2000 rows x 4 columns]"
      ]
     },
     "execution_count": 11,
     "metadata": {},
     "output_type": "execute_result"
    }
   ],
   "source": [
    "#Creating portfolios of with these random weights and finding the expected reutrns and std\n",
    "pf_exp, pf_std, pf_sharpe, pf_weights =[],[],[],[]\n",
    "\n",
    "def get_ER():\n",
    "        r = W.dot(retdf.mean())\n",
    "        return r\n",
    "\n",
    "def get_std():\n",
    "    std = (W.dot(retdf.cov().dot(W))**(1/2))\n",
    "    return std\n",
    "\n",
    "def get_sharpe():\n",
    "    sharpe = get_ER()/get_std()\n",
    "    return sharpe\n",
    "\n",
    "\n",
    "for i in range(2000):\n",
    "    W = give_weights()\n",
    "    pf_exp.append(get_ER())\n",
    "    pf_std.append(get_std())\n",
    "    pf_sharpe.append(get_sharpe())\n",
    "    pf_weights.append(W)\n",
    "\n",
    "#Random portfolios summary df\n",
    "x= pd.DataFrame({'E.R.':pf_exp,\n",
    "                'St':pf_std,\n",
    "                'Sharpe': pf_sharpe,\n",
    "                'weights':pf_weights})\n",
    "x"
   ]
  },
  {
   "cell_type": "code",
   "execution_count": 12,
   "id": "141e19bb-4138-43bd-8ee2-f2048cecb776",
   "metadata": {
    "tags": []
   },
   "outputs": [
    {
     "data": {
      "text/plain": [
       "<Axes: xlabel='St', ylabel='E.R.'>"
      ]
     },
     "execution_count": 12,
     "metadata": {},
     "output_type": "execute_result"
    },
    {
     "data": {
      "image/png": "[encoded data removed]",
      "text/plain": [
       "<Figure size 640x480 with 1 Axes>"
      ]
     },
     "metadata": {},
     "output_type": "display_data"
    }
   ],
   "source": [
    "x.plot(x='St',y='E.R.',kind='scatter')"
   ]
  },
  {
   "cell_type": "markdown",
   "id": "2a25a2ce",
   "metadata": {},
   "source": [
    "### Identify significant portfolios\n",
    "    - Mean:Variance Optimised i.e. Max Sharpe \n",
    "    - Min Vairance "
   ]
  },
  {
   "cell_type": "code",
   "execution_count": 17,
   "id": "15b582c2-1871-401a-82e7-b480f229e545",
   "metadata": {
    "tags": []
   },
   "outputs": [
    {
     "data": {
      "text/html": [
       "<div>\n",
       "<style scoped>\n",
       "    .dataframe tbody tr th:only-of-type {\n",
       "        vertical-align: middle;\n",
       "    }\n",
       "\n",
       "    .dataframe tbody tr th {\n",
       "        vertical-align: top;\n",
       "    }\n",
       "\n",
       "    .dataframe thead th {\n",
       "        text-align: right;\n",
       "    }\n",
       "</style>\n",
       "<table border=\"1\" class=\"dataframe\">\n",
       "  <thead>\n",
       "    <tr style=\"text-align: right;\">\n",
       "      <th></th>\n",
       "      <th>E.R.</th>\n",
       "      <th>St</th>\n",
       "      <th>Sharpe</th>\n",
       "      <th>weights</th>\n",
       "    </tr>\n",
       "  </thead>\n",
       "  <tbody>\n",
       "    <tr>\n",
       "      <th>289</th>\n",
       "      <td>0.001085</td>\n",
       "      <td>0.016265</td>\n",
       "      <td>0.066682</td>\n",
       "      <td>[0.08635214011936398, 0.008138309103115759, 0....</td>\n",
       "    </tr>\n",
       "  </tbody>\n",
       "</table>\n",
       "</div>"
      ],
      "text/plain": [
       "         E.R.        St    Sharpe  \\\n",
       "289  0.001085  0.016265  0.066682   \n",
       "\n",
       "                                               weights  \n",
       "289  [0.08635214011936398, 0.008138309103115759, 0....  "
      ]
     },
     "execution_count": 17,
     "metadata": {},
     "output_type": "execute_result"
    }
   ],
   "source": [
    "\n",
    "x.iloc[x['Sharpe'].nlargest(1).index] #Max Sharpe Ratio Optimum Portfolio"
   ]
  },
  {
   "cell_type": "code",
   "execution_count": 14,
   "id": "48c9db49-4da0-4f0a-a0ad-642e8565df1a",
   "metadata": {
    "tags": []
   },
   "outputs": [
    {
     "data": {
      "text/html": [
       "<div>\n",
       "<style scoped>\n",
       "    .dataframe tbody tr th:only-of-type {\n",
       "        vertical-align: middle;\n",
       "    }\n",
       "\n",
       "    .dataframe tbody tr th {\n",
       "        vertical-align: top;\n",
       "    }\n",
       "\n",
       "    .dataframe thead th {\n",
       "        text-align: right;\n",
       "    }\n",
       "</style>\n",
       "<table border=\"1\" class=\"dataframe\">\n",
       "  <thead>\n",
       "    <tr style=\"text-align: right;\">\n",
       "      <th></th>\n",
       "      <th>E.R.</th>\n",
       "      <th>St</th>\n",
       "      <th>Sharpe</th>\n",
       "      <th>weights</th>\n",
       "    </tr>\n",
       "  </thead>\n",
       "  <tbody>\n",
       "    <tr>\n",
       "      <th>1153</th>\n",
       "      <td>0.00039</td>\n",
       "      <td>0.010741</td>\n",
       "      <td>0.036271</td>\n",
       "      <td>[0.6821078557847422, 0.197631530229022, 0.1202...</td>\n",
       "    </tr>\n",
       "  </tbody>\n",
       "</table>\n",
       "</div>"
      ],
      "text/plain": [
       "         E.R.        St    Sharpe  \\\n",
       "1153  0.00039  0.010741  0.036271   \n",
       "\n",
       "                                                weights  \n",
       "1153  [0.6821078557847422, 0.197631530229022, 0.1202...  "
      ]
     },
     "execution_count": 14,
     "metadata": {},
     "output_type": "execute_result"
    }
   ],
   "source": [
    "x.iloc[x['St'].nsmallest(1).index]#Min Variance Portfolio"
   ]
  },
  {
   "cell_type": "code",
   "execution_count": 20,
   "id": "26cd2ad6-88d5-443c-a8e5-fabfe036e2c2",
   "metadata": {
    "tags": []
   },
   "outputs": [
    {
     "data": {
      "text/html": [
       "<div>\n",
       "<style scoped>\n",
       "    .dataframe tbody tr th:only-of-type {\n",
       "        vertical-align: middle;\n",
       "    }\n",
       "\n",
       "    .dataframe tbody tr th {\n",
       "        vertical-align: top;\n",
       "    }\n",
       "\n",
       "    .dataframe thead th {\n",
       "        text-align: right;\n",
       "    }\n",
       "</style>\n",
       "<table border=\"1\" class=\"dataframe\">\n",
       "  <thead>\n",
       "    <tr style=\"text-align: right;\">\n",
       "      <th></th>\n",
       "      <th>E.R.</th>\n",
       "      <th>St</th>\n",
       "      <th>Sharpe</th>\n",
       "      <th>weights</th>\n",
       "    </tr>\n",
       "  </thead>\n",
       "  <tbody>\n",
       "    <tr>\n",
       "      <th>1153</th>\n",
       "      <td>0.00039</td>\n",
       "      <td>0.010741</td>\n",
       "      <td>0.036271</td>\n",
       "      <td>[0.6821078557847422, 0.197631530229022, 0.1202...</td>\n",
       "    </tr>\n",
       "  </tbody>\n",
       "</table>\n",
       "</div>"
      ],
      "text/plain": [
       "         E.R.        St    Sharpe  \\\n",
       "1153  0.00039  0.010741  0.036271   \n",
       "\n",
       "                                                weights  \n",
       "1153  [0.6821078557847422, 0.197631530229022, 0.1202...  "
      ]
     },
     "execution_count": 20,
     "metadata": {},
     "output_type": "execute_result"
    }
   ],
   "source": [
    "x.nsmallest(1,'St')"
   ]
  },
  {
   "cell_type": "code",
   "execution_count": 16,
   "id": "b9408c67-d6ed-4a98-ac1d-f3623907b28b",
   "metadata": {
    "tags": []
   },
   "outputs": [
    {
     "data": {
      "text/html": [
       "<div>\n",
       "<style scoped>\n",
       "    .dataframe tbody tr th:only-of-type {\n",
       "        vertical-align: middle;\n",
       "    }\n",
       "\n",
       "    .dataframe tbody tr th {\n",
       "        vertical-align: top;\n",
       "    }\n",
       "\n",
       "    .dataframe thead th {\n",
       "        text-align: right;\n",
       "    }\n",
       "</style>\n",
       "<table border=\"1\" class=\"dataframe\">\n",
       "  <thead>\n",
       "    <tr style=\"text-align: right;\">\n",
       "      <th></th>\n",
       "      <th>E.R.</th>\n",
       "      <th>St</th>\n",
       "      <th>Sharpe</th>\n",
       "      <th>weights</th>\n",
       "    </tr>\n",
       "  </thead>\n",
       "  <tbody>\n",
       "    <tr>\n",
       "      <th>289</th>\n",
       "      <td>0.001085</td>\n",
       "      <td>0.016265</td>\n",
       "      <td>0.066682</td>\n",
       "      <td>[0.08635214011936398, 0.008138309103115759, 0....</td>\n",
       "    </tr>\n",
       "  </tbody>\n",
       "</table>\n",
       "</div>"
      ],
      "text/plain": [
       "         E.R.        St    Sharpe  \\\n",
       "289  0.001085  0.016265  0.066682   \n",
       "\n",
       "                                               weights  \n",
       "289  [0.08635214011936398, 0.008138309103115759, 0....  "
      ]
     },
     "execution_count": 16,
     "metadata": {},
     "output_type": "execute_result"
    }
   ],
   "source": [
    "x.nlargest(1, 'Sharpe') #wtf so i could've done it like this the whole time?"
   ]
  }
 ],
 "metadata": {
  "kernelspec": {
   "display_name": "Python 3 (ipykernel)",
   "language": "python",
   "name": "python3"
  },
  "language_info": {
   "codemirror_mode": {
    "name": "ipython",
    "version": 3
   },
   "file_extension": ".py",
   "mimetype": "text/x-python",
   "name": "python",
   "nbconvert_exporter": "python",
   "pygments_lexer": "ipython3",
   "version": "3.11.5"
  }
 },
 "nbformat": 4,
 "nbformat_minor": 5
}
