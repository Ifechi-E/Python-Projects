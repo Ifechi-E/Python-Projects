{
 "cells": [
  {
   "cell_type": "markdown",
   "metadata": {},
   "source": [
    "# Training and Testing the ML Model"
   ]
  },
  {
   "cell_type": "markdown",
   "metadata": {},
   "source": [
    "### Setup i.e. Inputs "
   ]
  },
  {
   "cell_type": "code",
   "execution_count": null,
   "metadata": {},
   "outputs": [],
   "source": [
    "import yfinance as yf\n",
    "import pandas as pd\n",
    "import numpy as np"
   ]
  },
  {
   "cell_type": "code",
   "execution_count": null,
   "metadata": {},
   "outputs": [],
   "source": [
    "tickers = pd.read_html('https://en.wikipedia.org/wiki/List_of_S%26P_500_companies')[0]['Symbol']\n",
    "tickers = tickers.to_list()"
   ]
  },
  {
   "cell_type": "code",
   "execution_count": null,
   "metadata": {},
   "outputs": [],
   "source": [
    "df = yf.download(tickers,start= '2010-01-01')"
   ]
  },
  {
   "cell_type": "markdown",
   "metadata": {},
   "source": [
    "### Process i.e. Funcaitons"
   ]
  },
  {
   "cell_type": "code",
   "execution_count": null,
   "metadata": {},
   "outputs": [],
   "source": [
    "def slice_by_ticker(ticker,df):\n",
    "    unpivot = df.copy()\n",
    "    unpivot = unpivot[unpivot.columns[unpivot.columns.get_level_values(1) == ticker]]\n",
    "    unpivot.columns = unpivot.columns.droplevel(1)\n",
    "    unpivot['Price'] = unpivot['Open'].shift(-1)\n",
    "    return unpivot"
   ]
  },
  {
   "cell_type": "code",
   "execution_count": null,
   "metadata": {},
   "outputs": [],
   "source": [
    "def MA_calc(df,n,m):\n",
    "    df[f'MA{n}'] = df['Adj Close'].rolling(n).mean()\n",
    "    df[f'MA{m}'] = df['Adj Close'].rolling(m).mean()\n",
    "    df.dropna(inplace= True)\n",
    "    return df"
   ]
  },
  {
   "cell_type": "code",
   "execution_count": null,
   "metadata": {},
   "outputs": [],
   "source": [
    "cumrets = []\n",
    "\n",
    "def vectorised (ticker,df,n,m):\n",
    "    #create sub data frames based on the ticker syboml and feed that \n",
    "    #to moving average function that adds the 2 moving averages to dhte df\n",
    "    z = pd.DataFrame(MA_calc(slice_by_ticker(ticker, df),n,m))\n",
    "\n",
    "    #find the first signal that's a buy \n",
    "    first_signal = pd.Series(z.index == (z.iloc[:,-2] > z.iloc[:,-1]).idxmax(), index= z.index)\n",
    "\n",
    "    #find the rest of the signals \n",
    "    Trade_signals = first_signal | (z.iloc[:,-2] > z.iloc[:,-1]).diff()\n",
    "    Trades = z[Trade_signals]\n",
    "    if len(Trades) % 2 != 0:\n",
    "        temp = z.tail(1).copy()\n",
    "        temp['Price'] = temp['Close']\n",
    "        Trades = pd.concat([Trades, temp])\n",
    "\n",
    "    #calculate returns and cumulated return\n",
    "    Rets = Trades['Price'].diff()[1::2] / Trades['Price'][0::2].values\n",
    "    cumret = (Rets + 1).prod()\n",
    "    return cumret\n"
   ]
  },
  {
   "cell_type": "code",
   "execution_count": null,
   "metadata": {},
   "outputs": [],
   "source": [
    "cumrets = []\n",
    "clean_tickers = []\n",
    "\n",
    "for ticker in tickers:\n",
    "    try:\n",
    "        x = vectorised(ticker, df, 10, 50)\n",
    "#        print(f\"Cumuret for {ticker}: {x}\")\n",
    "        cumrets.append(x)\n",
    "        clean_tickers.append(ticker)\n",
    "    except ValueError:\n",
    "        print(f'{ticker} one Goofy ahh stock')\n",
    "\n"
   ]
  },
  {
   "cell_type": "markdown",
   "metadata": {},
   "source": [
    "### Outputs "
   ]
  },
  {
   "cell_type": "code",
   "execution_count": null,
   "metadata": {},
   "outputs": [],
   "source": [
    "compare = pd.DataFrame({'Results': cumrets },index= clean_tickers)\n",
    "compare"
   ]
  },
  {
   "cell_type": "code",
   "execution_count": null,
   "metadata": {},
   "outputs": [],
   "source": [
    "compare['Results'].nlargest(5)"
   ]
  },
  {
   "cell_type": "markdown",
   "metadata": {},
   "source": [
    "### Trainign and Testing the model"
   ]
  },
  {
   "cell_type": "code",
   "execution_count": 27,
   "metadata": {},
   "outputs": [
    {
     "name": "stdout",
     "output_type": "stream",
     "text": [
      "ABNB is one Goofy ahh stock\n",
      "BRK.B is one Goofy ahh stock\n",
      "BF.B is one Goofy ahh stock\n",
      "CARR is one Goofy ahh stock\n",
      "CEG is one Goofy ahh stock\n",
      "GEHC is one Goofy ahh stock\n",
      "GEV is one Goofy ahh stock\n",
      "KVUE is one Goofy ahh stock\n",
      "OTIS is one Goofy ahh stock\n",
      "SW is one Goofy ahh stock\n",
      "SOLV is one Goofy ahh stock\n",
      "VLTO is one Goofy ahh stock\n"
     ]
    }
   ],
   "source": [
    "trianing_data= df[:int(len(df)*0.7)]\n",
    "testing_data= df[int(len(df)*0.7):]\n",
    "\n",
    "cumrets_training = []\n",
    "cumrets_testing = []\n",
    "clean_tickers = []\n",
    "\n",
    "for ticker in tickers:\n",
    "    try:\n",
    "        x = vectorised(ticker,trianing_data,10,50)\n",
    "        y = vectorised(ticker,testing_data,10,50) \n",
    "        cumrets_training.append(x)\n",
    "        cumrets_testing.append(y)\n",
    "        clean_tickers.append(ticker)\n",
    "    except ValueError:\n",
    "        print(f\"{ticker} is one Goofy ahh stock\")\n"
   ]
  },
  {
   "cell_type": "code",
   "execution_count": 29,
   "metadata": {},
   "outputs": [
    {
     "data": {
      "text/html": [
       "<div>\n",
       "<style scoped>\n",
       "    .dataframe tbody tr th:only-of-type {\n",
       "        vertical-align: middle;\n",
       "    }\n",
       "\n",
       "    .dataframe tbody tr th {\n",
       "        vertical-align: top;\n",
       "    }\n",
       "\n",
       "    .dataframe thead th {\n",
       "        text-align: right;\n",
       "    }\n",
       "</style>\n",
       "<table border=\"1\" class=\"dataframe\">\n",
       "  <thead>\n",
       "    <tr style=\"text-align: right;\">\n",
       "      <th></th>\n",
       "      <th>Training Results</th>\n",
       "      <th>Testing Results</th>\n",
       "    </tr>\n",
       "  </thead>\n",
       "  <tbody>\n",
       "    <tr>\n",
       "      <th>MMM</th>\n",
       "      <td>1.387678</td>\n",
       "      <td>0.723151</td>\n",
       "    </tr>\n",
       "    <tr>\n",
       "      <th>AOS</th>\n",
       "      <td>1.767926</td>\n",
       "      <td>1.189897</td>\n",
       "    </tr>\n",
       "    <tr>\n",
       "      <th>ABT</th>\n",
       "      <td>1.475640</td>\n",
       "      <td>1.094646</td>\n",
       "    </tr>\n",
       "    <tr>\n",
       "      <th>ABBV</th>\n",
       "      <td>1.669231</td>\n",
       "      <td>1.486111</td>\n",
       "    </tr>\n",
       "    <tr>\n",
       "      <th>ACN</th>\n",
       "      <td>1.434463</td>\n",
       "      <td>1.206884</td>\n",
       "    </tr>\n",
       "    <tr>\n",
       "      <th>...</th>\n",
       "      <td>...</td>\n",
       "      <td>...</td>\n",
       "    </tr>\n",
       "    <tr>\n",
       "      <th>XYL</th>\n",
       "      <td>1.308778</td>\n",
       "      <td>1.665125</td>\n",
       "    </tr>\n",
       "    <tr>\n",
       "      <th>YUM</th>\n",
       "      <td>1.880603</td>\n",
       "      <td>0.946238</td>\n",
       "    </tr>\n",
       "    <tr>\n",
       "      <th>ZBRA</th>\n",
       "      <td>3.377136</td>\n",
       "      <td>1.215614</td>\n",
       "    </tr>\n",
       "    <tr>\n",
       "      <th>ZBH</th>\n",
       "      <td>1.386050</td>\n",
       "      <td>0.639163</td>\n",
       "    </tr>\n",
       "    <tr>\n",
       "      <th>ZTS</th>\n",
       "      <td>2.662574</td>\n",
       "      <td>1.153325</td>\n",
       "    </tr>\n",
       "  </tbody>\n",
       "</table>\n",
       "<p>491 rows × 2 columns</p>\n",
       "</div>"
      ],
      "text/plain": [
       "      Training Results  Testing Results\n",
       "MMM           1.387678         0.723151\n",
       "AOS           1.767926         1.189897\n",
       "ABT           1.475640         1.094646\n",
       "ABBV          1.669231         1.486111\n",
       "ACN           1.434463         1.206884\n",
       "...                ...              ...\n",
       "XYL           1.308778         1.665125\n",
       "YUM           1.880603         0.946238\n",
       "ZBRA          3.377136         1.215614\n",
       "ZBH           1.386050         0.639163\n",
       "ZTS           2.662574         1.153325\n",
       "\n",
       "[491 rows x 2 columns]"
      ]
     },
     "execution_count": 29,
     "metadata": {},
     "output_type": "execute_result"
    }
   ],
   "source": [
    "compare = pd.DataFrame({'Training Results':cumrets_training,\n",
    "                        'Testing Results':cumrets_testing}, index= clean_tickers)\n",
    "compare"
   ]
  },
  {
   "cell_type": "markdown",
   "metadata": {},
   "source": [
    "### model looks to over-estimate the actual return by an order of magnitude "
   ]
  },
  {
   "cell_type": "code",
   "execution_count": 32,
   "metadata": {},
   "outputs": [
    {
     "data": {
      "text/html": [
       "<div>\n",
       "<style scoped>\n",
       "    .dataframe tbody tr th:only-of-type {\n",
       "        vertical-align: middle;\n",
       "    }\n",
       "\n",
       "    .dataframe tbody tr th {\n",
       "        vertical-align: top;\n",
       "    }\n",
       "\n",
       "    .dataframe thead th {\n",
       "        text-align: right;\n",
       "    }\n",
       "</style>\n",
       "<table border=\"1\" class=\"dataframe\">\n",
       "  <thead>\n",
       "    <tr style=\"text-align: right;\">\n",
       "      <th></th>\n",
       "      <th>Training Results</th>\n",
       "      <th>Testing Results</th>\n",
       "    </tr>\n",
       "  </thead>\n",
       "  <tbody>\n",
       "    <tr>\n",
       "      <th>TYL</th>\n",
       "      <td>11.040408</td>\n",
       "      <td>0.966137</td>\n",
       "    </tr>\n",
       "    <tr>\n",
       "      <th>CSGP</th>\n",
       "      <td>10.612549</td>\n",
       "      <td>0.551288</td>\n",
       "    </tr>\n",
       "    <tr>\n",
       "      <th>NFLX</th>\n",
       "      <td>10.559905</td>\n",
       "      <td>1.558895</td>\n",
       "    </tr>\n",
       "    <tr>\n",
       "      <th>URI</th>\n",
       "      <td>9.797369</td>\n",
       "      <td>2.985338</td>\n",
       "    </tr>\n",
       "    <tr>\n",
       "      <th>FTNT</th>\n",
       "      <td>9.499673</td>\n",
       "      <td>1.017777</td>\n",
       "    </tr>\n",
       "  </tbody>\n",
       "</table>\n",
       "</div>"
      ],
      "text/plain": [
       "      Training Results  Testing Results\n",
       "TYL          11.040408         0.966137\n",
       "CSGP         10.612549         0.551288\n",
       "NFLX         10.559905         1.558895\n",
       "URI           9.797369         2.985338\n",
       "FTNT          9.499673         1.017777"
      ]
     },
     "execution_count": 32,
     "metadata": {},
     "output_type": "execute_result"
    }
   ],
   "source": [
    "compare.nlargest(5,'Training Results')"
   ]
  },
  {
   "cell_type": "code",
   "execution_count": 36,
   "metadata": {},
   "outputs": [
    {
     "data": {
      "text/plain": [
       "Training Results    10.301981\n",
       "Testing Results      1.415887\n",
       "dtype: float64"
      ]
     },
     "execution_count": 36,
     "metadata": {},
     "output_type": "execute_result"
    }
   ],
   "source": [
    "\n",
    "compare.nlargest(5,'Training Results').mean(0)"
   ]
  }
 ],
 "metadata": {
  "kernelspec": {
   "display_name": "base",
   "language": "python",
   "name": "python3"
  },
  "language_info": {
   "codemirror_mode": {
    "name": "ipython",
    "version": 3
   },
   "file_extension": ".py",
   "mimetype": "text/x-python",
   "name": "python",
   "nbconvert_exporter": "python",
   "pygments_lexer": "ipython3",
   "version": "3.11.5"
  }
 },
 "nbformat": 4,
 "nbformat_minor": 2
}
