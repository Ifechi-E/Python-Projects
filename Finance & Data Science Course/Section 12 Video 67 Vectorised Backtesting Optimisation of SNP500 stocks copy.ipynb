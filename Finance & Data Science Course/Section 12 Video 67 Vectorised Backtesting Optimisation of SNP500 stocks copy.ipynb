{
 "cells": [
  {
   "cell_type": "markdown",
   "metadata": {},
   "source": [
    "# Vectorised Approach \n",
    "###             This optimeised version has a better time complexity"
   ]
  },
  {
   "cell_type": "markdown",
   "metadata": {},
   "source": [
    "### Setup "
   ]
  },
  {
   "cell_type": "code",
   "execution_count": null,
   "metadata": {},
   "outputs": [],
   "source": [
    "import yfinance as yf\n",
    "import pandas as pd\n",
    "import numpy as np"
   ]
  },
  {
   "cell_type": "code",
   "execution_count": null,
   "metadata": {},
   "outputs": [],
   "source": [
    "tickers = pd.read_html('https://en.wikipedia.org/wiki/List_of_S%26P_500_companies')[0]['Symbol']\n",
    "tickers = tickers.to_list()"
   ]
  },
  {
   "cell_type": "code",
   "execution_count": null,
   "metadata": {},
   "outputs": [],
   "source": [
    "df = yf.download(tickers,start= '2010-01-01', end ='2023-04-06')\n"
   ]
  },
  {
   "cell_type": "markdown",
   "metadata": {},
   "source": [
    "### Run the above every time.^^^^^ The below is proof of concelpt\n",
    "\n",
    "PIvot Table in Pandas (How to slice)"
   ]
  },
  {
   "cell_type": "code",
   "execution_count": null,
   "metadata": {},
   "outputs": [],
   "source": [
    "df"
   ]
  },
  {
   "cell_type": "code",
   "execution_count": null,
   "metadata": {},
   "outputs": [],
   "source": [
    "# This cell is the proof of concept of how slicing works before putting it in a function\n",
    "#df fiiltered by( the columns filterd by (were does the lvl 1 column header value say APPLE))\n",
    "df[df.columns[df.columns.get_level_values(1) == 'AAPL']]"
   ]
  },
  {
   "cell_type": "code",
   "execution_count": null,
   "metadata": {},
   "outputs": [],
   "source": [
    "def slice_by_ticker(ticker,df):\n",
    "    unpivot = df.copy()\n",
    "    unpivot = unpivot[unpivot.columns[unpivot.columns.get_level_values(1) == ticker]]\n",
    "    unpivot.columns = unpivot.columns.droplevel(1)\n",
    "    unpivot['Price'] = unpivot['Open'].shift(-1)\n",
    "    return unpivot"
   ]
  },
  {
   "cell_type": "code",
   "execution_count": null,
   "metadata": {},
   "outputs": [],
   "source": [
    "def MA_calc(df,n,m):\n",
    "    df[f'MA{n}'] = df['Adj Close'].rolling(n).mean()\n",
    "    df[f'MA{m}'] = df['Adj Close'].rolling(m).mean()\n",
    "    df.dropna(inplace= True)\n",
    "    return df"
   ]
  },
  {
   "cell_type": "markdown",
   "metadata": {},
   "source": [
    "### Building a Proof of Cocept of the Vectorised Approach using AAPL as an example "
   ]
  },
  {
   "cell_type": "code",
   "execution_count": null,
   "metadata": {},
   "outputs": [],
   "source": [
    "AAPL = slice_by_ticker('AAPL',df)\n",
    "AAPL"
   ]
  },
  {
   "cell_type": "code",
   "execution_count": null,
   "metadata": {},
   "outputs": [],
   "source": [
    "AAPL = MA_calc(AAPL,50,200)\n",
    "AAPL"
   ]
  },
  {
   "cell_type": "markdown",
   "metadata": {},
   "source": [
    "Now the DF has been set up and functions built. The vectorised approach begins"
   ]
  },
  {
   "cell_type": "code",
   "execution_count": null,
   "metadata": {},
   "outputs": [],
   "source": [
    "# Identify the first by signal \n",
    "(AAPL.iloc[:,-2] > AAPL.iloc[:,-1]).idxmax()\n",
    "# idxmax i.e. the index of the first instance where the short moving average was above the long"
   ]
  },
  {
   "cell_type": "code",
   "execution_count": null,
   "metadata": {},
   "outputs": [],
   "source": [
    "#the first signal object is a series with the same index as the origial AAPL DF, where the value is only truen at the first by signal \n",
    "first_signal = pd.Series(AAPL.index == (AAPL.iloc[:,-2] > AAPL.iloc[:,-1]).idxmax(), index= AAPL.index)"
   ]
  },
  {
   "cell_type": "markdown",
   "metadata": {},
   "source": [
    "Now to find the rest of the trade signals"
   ]
  },
  {
   "cell_type": "code",
   "execution_count": null,
   "metadata": {},
   "outputs": [],
   "source": [
    "# Return true every time the short MA crosses the long MA\n",
    "(AAPL.iloc[:,-2] > AAPL.iloc[:,-1]).diff()"
   ]
  },
  {
   "cell_type": "code",
   "execution_count": null,
   "metadata": {},
   "outputs": [],
   "source": [
    "# Trade signals is the first signal + the above \n",
    "Trade_signals = first_signal | (AAPL.iloc[:,-2] > AAPL.iloc[:,-1]).diff()\n",
    "Trade_signals"
   ]
  },
  {
   "cell_type": "code",
   "execution_count": null,
   "metadata": {},
   "outputs": [],
   "source": [
    "Trades = AAPL[Trade_signals]\n",
    "Trades"
   ]
  },
  {
   "cell_type": "code",
   "execution_count": null,
   "metadata": {},
   "outputs": [],
   "source": [
    "len(Trades)"
   ]
  },
  {
   "cell_type": "markdown",
   "metadata": {},
   "source": [
    "devise a logic that will close the position if you are currently in a trade "
   ]
  },
  {
   "cell_type": "code",
   "execution_count": null,
   "metadata": {},
   "outputs": [],
   "source": [
    "if len(Trades) % 2 != 0:\n",
    "    temp = AAPL.tail(1).copy()\n",
    "    temp['Price'] = temp['Close']\n",
    "    Trades = pd.concat([Trades, temp])\n",
    "len(Trades)    "
   ]
  },
  {
   "cell_type": "code",
   "execution_count": null,
   "metadata": {},
   "outputs": [],
   "source": [
    "Trades"
   ]
  },
  {
   "cell_type": "markdown",
   "metadata": {},
   "source": [
    "Now to Caculate the returns of the strategy "
   ]
  },
  {
   "cell_type": "code",
   "execution_count": null,
   "metadata": {},
   "outputs": [],
   "source": [
    "# this is the difference is price every i.e. flat profit \n",
    "Trades['Price'].diff()[1::2]\n",
    "# run the diff function every 2nd row, starting at index 1 i.e. the 2 df entry whch is the first sale (first sale price - first by price, then skip over the next entry which is a buy to arrive at the 2nd sale. Then repeat)"
   ]
  },
  {
   "cell_type": "markdown",
   "metadata": {},
   "source": [
    "Now getting returns by setting it in relation to the buy price for the trade"
   ]
  },
  {
   "cell_type": "code",
   "execution_count": null,
   "metadata": {},
   "outputs": [],
   "source": [
    "Rets = Trades['Price'].diff()[1::2] / Trades['Price'][0::2].values\n",
    "Rets"
   ]
  },
  {
   "cell_type": "markdown",
   "metadata": {},
   "source": [
    "Now Cumulate returns"
   ]
  },
  {
   "cell_type": "code",
   "execution_count": null,
   "metadata": {},
   "outputs": [],
   "source": [
    "cumret = (Rets + 1).prod()\n",
    "cumret\n"
   ]
  },
  {
   "cell_type": "markdown",
   "metadata": {},
   "source": [
    "## Now Abstracting this process into a fuctionction that can be called on all the assets in the SNP 500"
   ]
  },
  {
   "cell_type": "code",
   "execution_count": null,
   "metadata": {},
   "outputs": [],
   "source": [
    "def slice_by_ticker(ticker,df):\n",
    "    unpivot = df.copy()\n",
    "    unpivot = unpivot[unpivot.columns[unpivot.columns.get_level_values(1) == ticker]]\n",
    "    unpivot.columns = unpivot.columns.droplevel(1)\n",
    "    unpivot['Price'] = unpivot['Open'].shift(-1)\n",
    "    return unpivot"
   ]
  },
  {
   "cell_type": "code",
   "execution_count": null,
   "metadata": {},
   "outputs": [],
   "source": [
    "def MA_calc(df,n,m):\n",
    "    df[f'MA{n}'] = df['Adj Close'].rolling(n).mean()\n",
    "    df[f'MA{m}'] = df['Adj Close'].rolling(m).mean()\n",
    "    df.dropna(inplace= True)\n",
    "    return df"
   ]
  },
  {
   "cell_type": "code",
   "execution_count": null,
   "metadata": {},
   "outputs": [],
   "source": [
    "cumrets = []\n",
    "\n",
    "def vectorised (ticker,df,n,m):\n",
    "    #create sub data frames based on the ticker syboml and feed that \n",
    "    #to moving average function that adds the 2 moving averages to dhte df\n",
    "    z = pd.DataFrame(MA_calc(slice_by_ticker(ticker, df),n,m))\n",
    "\n",
    "    #find the first signal that's a buy \n",
    "    first_signal = pd.Series(z.index == (z.iloc[:,-2] > z.iloc[:,-1]).idxmax(), index= z.index)\n",
    "\n",
    "    #find the rest of the signals \n",
    "    Trade_signals = first_signal | (z.iloc[:,-2] > z.iloc[:,-1]).diff()\n",
    "    Trades = z[Trade_signals]\n",
    "    if len(Trades) % 2 != 0:\n",
    "        temp = z.tail(1).copy()\n",
    "        temp['Price'] = temp['Close']\n",
    "        Trades = pd.concat([Trades, temp])\n",
    "\n",
    "    #calculate returns and cumulated return\n",
    "    Rets = Trades['Price'].diff()[1::2] / Trades['Price'][0::2].values\n",
    "    cumret = (Rets + 1).prod()\n",
    "    return cumret\n"
   ]
  },
  {
   "cell_type": "code",
   "execution_count": null,
   "metadata": {},
   "outputs": [],
   "source": [
    "cumrets = []\n",
    "clean_tickers = []\n",
    "\n",
    "for ticker in tickers:\n",
    "    try:\n",
    "        print(f\"Cumuret for {ticker}: {vectorised(ticker, df, 10, 50)}\")\n",
    "        cumrets.append(vectorised(ticker, df, 10, 50))\n",
    "        clean_tickers.append(ticker)\n",
    "    except ValueError:\n",
    "        print(f'{ticker} one Goofy ahh stock')\n",
    "\n"
   ]
  },
  {
   "cell_type": "code",
   "execution_count": null,
   "metadata": {},
   "outputs": [],
   "source": [
    "compare = pd.DataFrame({'Results': cumrets },index= clean_tickers)\n",
    "compare"
   ]
  },
  {
   "cell_type": "code",
   "execution_count": 35,
   "metadata": {},
   "outputs": [
    {
     "data": {
      "text/plain": [
       "TSLA    39.031641\n",
       "ALGN    29.121435\n",
       "URI     27.635018\n",
       "ENPH    27.488482\n",
       "NVDA    26.417403\n",
       "Name: Results, dtype: float64"
      ]
     },
     "execution_count": 35,
     "metadata": {},
     "output_type": "execute_result"
    }
   ],
   "source": [
    "compare['Results'].nlargest(5)"
   ]
  },
  {
   "cell_type": "code",
   "execution_count": null,
   "metadata": {},
   "outputs": [],
   "source": []
  },
  {
   "cell_type": "code",
   "execution_count": null,
   "metadata": {},
   "outputs": [],
   "source": []
  },
  {
   "cell_type": "code",
   "execution_count": null,
   "metadata": {},
   "outputs": [],
   "source": []
  }
 ],
 "metadata": {
  "kernelspec": {
   "display_name": "base",
   "language": "python",
   "name": "python3"
  },
  "language_info": {
   "codemirror_mode": {
    "name": "ipython",
    "version": 3
   },
   "file_extension": ".py",
   "mimetype": "text/x-python",
   "name": "python",
   "nbconvert_exporter": "python",
   "pygments_lexer": "ipython3",
   "version": "3.11.5"
  }
 },
 "nbformat": 4,
 "nbformat_minor": 2
}
