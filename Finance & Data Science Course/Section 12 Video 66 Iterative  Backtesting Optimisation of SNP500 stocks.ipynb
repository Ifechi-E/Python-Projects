{
 "cells": [
  {
   "cell_type": "code",
   "execution_count": null,
   "metadata": {},
   "outputs": [],
   "source": [
    "import yfinance as yf\n",
    "import pandas as pd\n",
    "import numpy as np"
   ]
  },
  {
   "cell_type": "code",
   "execution_count": null,
   "metadata": {},
   "outputs": [],
   "source": [
    "tickers = pd.read_html('https://en.wikipedia.org/wiki/List_of_S%26P_500_companies')[0]['Symbol']\n",
    "tickers = tickers.to_list()"
   ]
  },
  {
   "cell_type": "code",
   "execution_count": null,
   "metadata": {},
   "outputs": [],
   "source": [
    "df = yf.download(tickers,start= '2010-01-01', end ='2023-04-06')\n"
   ]
  },
  {
   "cell_type": "markdown",
   "metadata": {},
   "source": [
    "PIvot Table in Pandas (How to slice)"
   ]
  },
  {
   "cell_type": "code",
   "execution_count": null,
   "metadata": {},
   "outputs": [],
   "source": [
    "df"
   ]
  },
  {
   "cell_type": "code",
   "execution_count": null,
   "metadata": {},
   "outputs": [],
   "source": [
    "# This is a proof of concept of df slicing before abstracting it in a function \n",
    "#df fiiltered by( the columns filterd by (were does the lvl 1 column header value say APPLE))\n",
    "df[df.columns[df.columns.get_level_values(1) == 'AAPL']]"
   ]
  },
  {
   "cell_type": "code",
   "execution_count": null,
   "metadata": {},
   "outputs": [],
   "source": [
    "def slice_by_ticker(ticker,df):\n",
    "    unpivot = df.copy()\n",
    "    unpivot = unpivot[unpivot.columns[unpivot.columns.get_level_values(1) == ticker]]\n",
    "    unpivot.columns = unpivot.columns.droplevel(1)\n",
    "    unpivot['Price'] = unpivot['Open'].shift(-1)\n",
    "    return unpivot"
   ]
  },
  {
   "cell_type": "code",
   "execution_count": null,
   "metadata": {},
   "outputs": [],
   "source": [
    "AAPL = slice_by_ticker('AAPL',df)\n",
    "AAPL"
   ]
  },
  {
   "cell_type": "code",
   "execution_count": null,
   "metadata": {},
   "outputs": [],
   "source": [
    "def MA_calc(df,n,m):\n",
    "    df[f'MA{n}'] = df['Adj Close'].rolling(n).mean()\n",
    "    df[f'MA{m}'] = df['Adj Close'].rolling(m).mean()\n",
    "    df.dropna(inplace= True)\n",
    "    return df"
   ]
  },
  {
   "cell_type": "code",
   "execution_count": null,
   "metadata": {},
   "outputs": [],
   "source": [
    "AAPL = MA_calc(AAPL,50,200)\n",
    "AAPL"
   ]
  },
  {
   "cell_type": "markdown",
   "metadata": {},
   "source": [
    "buyprice, sellprice = [],[]\n",
    "buydate, selldate = [], []\n",
    "\n",
    "in_positon = False\n",
    "\n",
    "for index, rows in AAPL.iterrows():\n",
    "    if not in_positon and (rows[-2] > rows[-1]):\n",
    "        buyprice.append(rows['Price'])\n",
    "        buydate.append(rows.name)\n",
    "        in_positon = True\n",
    "    if in_positon and (rows[-2] > rows[-1]):\n",
    "        sellprice.append(rows['Price'])\n",
    "        selldate.append(rows.name)\n",
    "        in_positon = False"
   ]
  },
  {
   "cell_type": "code",
   "execution_count": null,
   "metadata": {},
   "outputs": [],
   "source": [
    "def backtest(df, n, m):\n",
    "    MA_calc(df,n,m)\n",
    "    in_position = False\n",
    "    profits = []\n",
    "    \n",
    "    for index,row in df.iterrows():\n",
    "        if not in_position:\n",
    "            if (row[-2] > row[-1]):\n",
    "                buyprice = row['Price']\n",
    "                in_position = True\n",
    "        if in_position:\n",
    "            if (row[-2] < row[-1]):\n",
    "                profit = (row['Price'] / buyprice)/-1\n",
    "                profits.append(profit)\n",
    "                in_position = False\n",
    "\n",
    "    gain = (pd.Series(profits) + 1).prod()\n",
    "    return gain"
   ]
  },
  {
   "cell_type": "code",
   "execution_count": null,
   "metadata": {},
   "outputs": [],
   "source": [
    "ret = backtest(slice_by_ticker('AAPL',df),50,100)"
   ]
  },
  {
   "cell_type": "code",
   "execution_count": null,
   "metadata": {},
   "outputs": [],
   "source": [
    "ret"
   ]
  },
  {
   "cell_type": "code",
   "execution_count": null,
   "metadata": {},
   "outputs": [],
   "source": [
    "row = AAPL.iloc[-1]\n",
    "row"
   ]
  },
  {
   "cell_type": "code",
   "execution_count": null,
   "metadata": {},
   "outputs": [],
   "source": [
    "row[-2] > row[-1]"
   ]
  },
  {
   "cell_type": "code",
   "execution_count": null,
   "metadata": {},
   "outputs": [],
   "source": []
  }
 ],
 "metadata": {
  "kernelspec": {
   "display_name": "base",
   "language": "python",
   "name": "python3"
  },
  "language_info": {
   "codemirror_mode": {
    "name": "ipython",
    "version": 3
   },
   "file_extension": ".py",
   "mimetype": "text/x-python",
   "name": "python",
   "nbconvert_exporter": "python",
   "pygments_lexer": "ipython3",
   "version": "3.11.5"
  }
 },
 "nbformat": 4,
 "nbformat_minor": 2
}
