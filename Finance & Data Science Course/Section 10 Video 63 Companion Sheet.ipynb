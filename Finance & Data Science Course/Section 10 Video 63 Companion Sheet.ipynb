{
 "cells": [
  {
   "cell_type": "code",
   "execution_count": 4,
   "metadata": {},
   "outputs": [
    {
     "name": "stderr",
     "output_type": "stream",
     "text": [
      "[*********************100%%**********************]  503 of 503 completed\n",
      "\n",
      "2 Failed downloads:\n",
      "['BRK.B']: Exception('%ticker%: No timezone found, symbol may be delisted')\n",
      "['BF.B']: Exception('%ticker%: No price data found, symbol may be delisted (1d 2020-01-01 -> 2024-07-29)')\n"
     ]
    }
   ],
   "source": [
    "import pandas as pd\n",
    "from pandas.tseries.offsets import DateOffset \n",
    "import matplotlib.pyplot as plt\n",
    "import numpy as np \n",
    "import yfinance as yf \n",
    "\n",
    "def cumreturns(df):\n",
    "    r = df.pct_change()\n",
    "    c = (r+1).cumprod()-1 \n",
    "    c = c.fillna(0)\n",
    "    return c\n",
    "\n",
    "def get_ret(df, n):\n",
    "    prevprice = df[:df.index[-1] - DateOffset(months=n)].tail(1).squeeze()\n",
    "    recentprice = df.loc[df.index[-1]]\n",
    "    retdf = (recentprice / prevprice) -1\n",
    "    return retdf, prevprice.name\n",
    "\n",
    "def get_data(dropdown):\n",
    "    df = yf.download(dropdown, start = \"2020-01-01\")['Close']\n",
    "    return df\n",
    "\n",
    "tickers = pd.read_html('https://en.wikipedia.org/wiki/List_of_S%26P_500_companies')[0]['Symbol']\n",
    "tickers = tickers.to_list()\n",
    "\n",
    "n=5\n",
    "\n",
    "################################################################################\n",
    "df = get_data(tickers)\n",
    "df.index = pd.to_datetime(df.index)\n",
    "\n",
    "retdf, date = get_ret(df,n)\n"
   ]
  },
  {
   "cell_type": "code",
   "execution_count": 12,
   "metadata": {},
   "outputs": [],
   "source": [
    "winners = retdf.nlargest(4)\n",
    "losers = retdf.nsmallest(5)\n",
    "\n",
    "w = winners.index.to_list()\n",
    "l = losers.index.to_list()"
   ]
  },
  {
   "cell_type": "code",
   "execution_count": 14,
   "metadata": {},
   "outputs": [],
   "source": [
    "combined = w.extend(l)\n",
    "combined"
   ]
  },
  {
   "cell_type": "code",
   "execution_count": 17,
   "metadata": {},
   "outputs": [
    {
     "data": {
      "text/plain": [
       "['MMM',\n",
       " 'NEM',\n",
       " 'FSLR',\n",
       " 'NVDA',\n",
       " 'LW',\n",
       " 'LULU',\n",
       " 'WBA',\n",
       " 'DXCM',\n",
       " 'ALB',\n",
       " 'LW',\n",
       " 'LULU',\n",
       " 'WBA',\n",
       " 'DXCM',\n",
       " 'ALB']"
      ]
     },
     "execution_count": 17,
     "metadata": {},
     "output_type": "execute_result"
    }
   ],
   "source": [
    "w"
   ]
  },
  {
   "cell_type": "code",
   "execution_count": null,
   "metadata": {},
   "outputs": [],
   "source": []
  }
 ],
 "metadata": {
  "kernelspec": {
   "display_name": "base",
   "language": "python",
   "name": "python3"
  },
  "language_info": {
   "codemirror_mode": {
    "name": "ipython",
    "version": 3
   },
   "file_extension": ".py",
   "mimetype": "text/x-python",
   "name": "python",
   "nbconvert_exporter": "python",
   "pygments_lexer": "ipython3",
   "version": "3.11.5"
  }
 },
 "nbformat": 4,
 "nbformat_minor": 2
}
