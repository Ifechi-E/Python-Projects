{
 "cells": [
  {
   "cell_type": "markdown",
   "id": "90f5bf87",
   "metadata": {},
   "source": [
    "# Testing Moving Average Strategy (Vectorised rather that iterrows)"
   ]
  },
  {
   "cell_type": "markdown",
   "id": "6d5e2109",
   "metadata": {},
   "source": [
    "### Libraries + DF setup\n",
    "    - This part is the same as the iterative method"
   ]
  },
  {
   "cell_type": "code",
   "execution_count": null,
   "id": "269f3d7d-c9ec-4b1f-96fe-f27b6d11fd82",
   "metadata": {
    "tags": []
   },
   "outputs": [],
   "source": [
    "import pandas as pd\n",
    "import numpy as np\n",
    "import yfinance as yf"
   ]
  },
  {
   "cell_type": "code",
   "execution_count": 12,
   "id": "073ac81a-91f5-460c-8a64-1564359eb785",
   "metadata": {
    "tags": []
   },
   "outputs": [
    {
     "name": "stderr",
     "output_type": "stream",
     "text": [
      "[*********************100%%**********************]  1 of 1 completed\n"
     ]
    },
    {
     "data": {
      "text/html": [
       "<div>\n",
       "<style scoped>\n",
       "    .dataframe tbody tr th:only-of-type {\n",
       "        vertical-align: middle;\n",
       "    }\n",
       "\n",
       "    .dataframe tbody tr th {\n",
       "        vertical-align: top;\n",
       "    }\n",
       "\n",
       "    .dataframe thead th {\n",
       "        text-align: right;\n",
       "    }\n",
       "</style>\n",
       "<table border=\"1\" class=\"dataframe\">\n",
       "  <thead>\n",
       "    <tr style=\"text-align: right;\">\n",
       "      <th></th>\n",
       "      <th>Open</th>\n",
       "      <th>High</th>\n",
       "      <th>Low</th>\n",
       "      <th>Close</th>\n",
       "      <th>Adj Close</th>\n",
       "      <th>Volume</th>\n",
       "      <th>MA100</th>\n",
       "      <th>Price</th>\n",
       "    </tr>\n",
       "    <tr>\n",
       "      <th>Date</th>\n",
       "      <th></th>\n",
       "      <th></th>\n",
       "      <th></th>\n",
       "      <th></th>\n",
       "      <th></th>\n",
       "      <th></th>\n",
       "      <th></th>\n",
       "      <th></th>\n",
       "    </tr>\n",
       "  </thead>\n",
       "  <tbody>\n",
       "    <tr>\n",
       "      <th>2020-05-26</th>\n",
       "      <td>3004.080078</td>\n",
       "      <td>3021.719971</td>\n",
       "      <td>2988.169922</td>\n",
       "      <td>2991.770020</td>\n",
       "      <td>2991.770020</td>\n",
       "      <td>5848500000</td>\n",
       "      <td>2967.473689</td>\n",
       "      <td>3015.649902</td>\n",
       "    </tr>\n",
       "    <tr>\n",
       "      <th>2020-05-27</th>\n",
       "      <td>3015.649902</td>\n",
       "      <td>3036.250000</td>\n",
       "      <td>2969.750000</td>\n",
       "      <td>3036.129883</td>\n",
       "      <td>3036.129883</td>\n",
       "      <td>6398000000</td>\n",
       "      <td>2965.256487</td>\n",
       "      <td>3046.610107</td>\n",
       "    </tr>\n",
       "    <tr>\n",
       "      <th>2020-05-28</th>\n",
       "      <td>3046.610107</td>\n",
       "      <td>3068.669922</td>\n",
       "      <td>3023.399902</td>\n",
       "      <td>3029.729980</td>\n",
       "      <td>3029.729980</td>\n",
       "      <td>5447020000</td>\n",
       "      <td>2963.205286</td>\n",
       "      <td>3025.169922</td>\n",
       "    </tr>\n",
       "    <tr>\n",
       "      <th>2020-05-29</th>\n",
       "      <td>3025.169922</td>\n",
       "      <td>3049.169922</td>\n",
       "      <td>2998.610107</td>\n",
       "      <td>3044.310059</td>\n",
       "      <td>3044.310059</td>\n",
       "      <td>7297550000</td>\n",
       "      <td>2961.185586</td>\n",
       "      <td>3038.780029</td>\n",
       "    </tr>\n",
       "    <tr>\n",
       "      <th>2020-06-01</th>\n",
       "      <td>3038.780029</td>\n",
       "      <td>3062.179932</td>\n",
       "      <td>3031.540039</td>\n",
       "      <td>3055.729980</td>\n",
       "      <td>3055.729980</td>\n",
       "      <td>4684170000</td>\n",
       "      <td>2959.371086</td>\n",
       "      <td>3064.780029</td>\n",
       "    </tr>\n",
       "    <tr>\n",
       "      <th>...</th>\n",
       "      <td>...</td>\n",
       "      <td>...</td>\n",
       "      <td>...</td>\n",
       "      <td>...</td>\n",
       "      <td>...</td>\n",
       "      <td>...</td>\n",
       "      <td>...</td>\n",
       "      <td>...</td>\n",
       "    </tr>\n",
       "    <tr>\n",
       "      <th>2024-07-19</th>\n",
       "      <td>5543.370117</td>\n",
       "      <td>5557.500000</td>\n",
       "      <td>5497.040039</td>\n",
       "      <td>5505.000000</td>\n",
       "      <td>5505.000000</td>\n",
       "      <td>3760570000</td>\n",
       "      <td>5272.013506</td>\n",
       "      <td>5544.540039</td>\n",
       "    </tr>\n",
       "    <tr>\n",
       "      <th>2024-07-22</th>\n",
       "      <td>5544.540039</td>\n",
       "      <td>5570.359863</td>\n",
       "      <td>5529.040039</td>\n",
       "      <td>5564.410156</td>\n",
       "      <td>5564.410156</td>\n",
       "      <td>3375180000</td>\n",
       "      <td>5276.875806</td>\n",
       "      <td>5565.299805</td>\n",
       "    </tr>\n",
       "    <tr>\n",
       "      <th>2024-07-23</th>\n",
       "      <td>5565.299805</td>\n",
       "      <td>5585.339844</td>\n",
       "      <td>5550.899902</td>\n",
       "      <td>5555.740234</td>\n",
       "      <td>5555.740234</td>\n",
       "      <td>3500210000</td>\n",
       "      <td>5281.735610</td>\n",
       "      <td>5505.839844</td>\n",
       "    </tr>\n",
       "    <tr>\n",
       "      <th>2024-07-24</th>\n",
       "      <td>5505.839844</td>\n",
       "      <td>5508.040039</td>\n",
       "      <td>5419.979980</td>\n",
       "      <td>5427.129883</td>\n",
       "      <td>5427.129883</td>\n",
       "      <td>3945550000</td>\n",
       "      <td>5285.044209</td>\n",
       "      <td>5428.700195</td>\n",
       "    </tr>\n",
       "    <tr>\n",
       "      <th>2024-07-25</th>\n",
       "      <td>5428.700195</td>\n",
       "      <td>5491.589844</td>\n",
       "      <td>5390.950195</td>\n",
       "      <td>5399.220215</td>\n",
       "      <td>5399.220215</td>\n",
       "      <td>4592120000</td>\n",
       "      <td>5287.665610</td>\n",
       "      <td>5433.669922</td>\n",
       "    </tr>\n",
       "  </tbody>\n",
       "</table>\n",
       "<p>1049 rows × 8 columns</p>\n",
       "</div>"
      ],
      "text/plain": [
       "                   Open         High          Low        Close    Adj Close  \\\n",
       "Date                                                                          \n",
       "2020-05-26  3004.080078  3021.719971  2988.169922  2991.770020  2991.770020   \n",
       "2020-05-27  3015.649902  3036.250000  2969.750000  3036.129883  3036.129883   \n",
       "2020-05-28  3046.610107  3068.669922  3023.399902  3029.729980  3029.729980   \n",
       "2020-05-29  3025.169922  3049.169922  2998.610107  3044.310059  3044.310059   \n",
       "2020-06-01  3038.780029  3062.179932  3031.540039  3055.729980  3055.729980   \n",
       "...                 ...          ...          ...          ...          ...   \n",
       "2024-07-19  5543.370117  5557.500000  5497.040039  5505.000000  5505.000000   \n",
       "2024-07-22  5544.540039  5570.359863  5529.040039  5564.410156  5564.410156   \n",
       "2024-07-23  5565.299805  5585.339844  5550.899902  5555.740234  5555.740234   \n",
       "2024-07-24  5505.839844  5508.040039  5419.979980  5427.129883  5427.129883   \n",
       "2024-07-25  5428.700195  5491.589844  5390.950195  5399.220215  5399.220215   \n",
       "\n",
       "                Volume        MA100        Price  \n",
       "Date                                              \n",
       "2020-05-26  5848500000  2967.473689  3015.649902  \n",
       "2020-05-27  6398000000  2965.256487  3046.610107  \n",
       "2020-05-28  5447020000  2963.205286  3025.169922  \n",
       "2020-05-29  7297550000  2961.185586  3038.780029  \n",
       "2020-06-01  4684170000  2959.371086  3064.780029  \n",
       "...                ...          ...          ...  \n",
       "2024-07-19  3760570000  5272.013506  5544.540039  \n",
       "2024-07-22  3375180000  5276.875806  5565.299805  \n",
       "2024-07-23  3500210000  5281.735610  5505.839844  \n",
       "2024-07-24  3945550000  5285.044209  5428.700195  \n",
       "2024-07-25  4592120000  5287.665610  5433.669922  \n",
       "\n",
       "[1049 rows x 8 columns]"
      ]
     },
     "execution_count": 12,
     "metadata": {},
     "output_type": "execute_result"
    }
   ],
   "source": [
    "#Initial DataFrame setup \n",
    "df= yf.download('^GSPC',start='2020-01-01')\n",
    "df['MA100'] = df['Adj Close'].rolling(100).mean()\n",
    "df['Price'] = df['Open'].shift(-1)\n",
    "df.dropna(inplace = True)\n",
    "df"
   ]
  },
  {
   "cell_type": "code",
   "execution_count": null,
   "id": "cb74fa67",
   "metadata": {},
   "outputs": [],
   "source": [
    "df[['Adj Close','MA100']].plot()"
   ]
  },
  {
   "cell_type": "markdown",
   "id": "47eefa52",
   "metadata": {},
   "source": [
    "### Strategy Operation \n",
    "    - Find the first Signal\n",
    "        o The first instance where the close was above the Moving Average\n",
    "    - Assign that to a data frame\n",
    "    - learnt DF maethod: .idxmax() and found .idxmin() "
   ]
  },
  {
   "cell_type": "code",
   "execution_count": null,
   "id": "6202c1c2-368a-4a3a-8978-6015a4a77c15",
   "metadata": {
    "tags": []
   },
   "outputs": [],
   "source": [
    "(df['Adj Close']>df['MA100']).idxmax() #find the index of the first instance where iclose > MA100\n",
    "df.index == (df['Adj Close']>df['MA100']).idxmax() #boolean mask as an ARRAY returning true only on the first instance of close>MA100 \n",
    "first_buy = pd.Series(df.index == (df['Adj Close']>df['MA100']).idxmax(), index = df.index)                  #Assign the array to a pandas series structure called First Buy and give the series the same index as the original DF\n",
    "first_buy"
   ]
  },
  {
   "cell_type": "markdown",
   "id": "5be59c44",
   "metadata": {},
   "source": [
    "####    Finding the Rest of the Signals \n",
    "    - using boolean mask\n",
    "    - learnt calling .diff() on a boolean mask returns a mask that only shows where\n",
    "      the original changes from one value to the next.\n",
    "            i.e. original [T,T,T,F,F,T]\n",
    "                 diff     [-,F,F,T,F,T] - = NaN as there is no previous value to compare\n",
    "                                            combining first signal with this will make NaN\n",
    "                                            True. To be the first buy\n",
    "           interpretation [B, , ,S, ,B]  \n",
    "    - learnt using | to join series together"
   ]
  },
  {
   "cell_type": "code",
   "execution_count": null,
   "id": "f91795c8-1158-4d48-bd2b-c24e95165758",
   "metadata": {
    "tags": []
   },
   "outputs": [],
   "source": [
    "df['Adj Close']>df['MA100'] # Returns a boolean mask that is true for all the periods were close is above the MA and false for all the others\n",
    "\n",
    "#This isn't a signal list as there would be multiple buy signals if the close stays above the MA.\n",
    "\n",
    "(df['Adj Close']>df['MA100']).diff() #by taking the diff of the boolean mask we return a mask that has true only when the original boolean mask switches from a from one value to another. \n",
    "                                    #i.e. at a trading signal \n",
    "\n",
    "\n",
    "# making a series in df that is a boolean mask combining first buy with the rest of the trade signals\n",
    "df['Trade_Signal'] = first_buy | (df['Adj Close']>df['MA100']).diff() \n",
    "df['Trade_Signal']"
   ]
  },
  {
   "cell_type": "markdown",
   "id": "2b40d9c8",
   "metadata": {},
   "source": [
    "### Make a DF for only when a trade signal is given\n",
    "        - i.e. Filter the original DF for when Trade_Signal Column = True and assign\n",
    "          it to a new DF"
   ]
  },
  {
   "cell_type": "code",
   "execution_count": null,
   "id": "c4ceafab-e339-4af3-9d9b-275a1862778d",
   "metadata": {
    "tags": []
   },
   "outputs": [],
   "source": [
    "Relevant_Trades = df[first_buy | (df['Adj Close']>df['MA100']).diff()]  # Releavnt trades is a data frame of only where a trade signal is given. i.e. wheresignals column = True\n",
    "Relevant_Trades"
   ]
  },
  {
   "cell_type": "code",
   "execution_count": null,
   "id": "0a83cc86",
   "metadata": {},
   "outputs": [],
   "source": [
    "len(Relevant_Trades['Price']) #since series length is odd, we are presently in a trade which must be closed at the most recent price for strategy analysis to progress"
   ]
  },
  {
   "cell_type": "code",
   "execution_count": null,
   "id": "f0f0a26d-9cf0-4d9d-8df6-7b0e177c8a8d",
   "metadata": {
    "tags": []
   },
   "outputs": [],
   "source": [
    "if len(Relevant_Trades) % 2 != 0:           #if the length of the trade price series is odd then append the last known price\n",
    "    end = df.iloc[-1:]\n",
    "    Relevant_Trades = pd.concat([Relevant_Trades,end])\n",
    "\n",
    "Relevant_Trades"
   ]
  },
  {
   "cell_type": "markdown",
   "id": "a69f46ce",
   "metadata": {},
   "source": [
    "### DF complete now Calculating Returns and strategy metrics"
   ]
  },
  {
   "cell_type": "code",
   "execution_count": null,
   "id": "d9d02d2f-4ce9-4fe8-8a01-6a374ce3aa93",
   "metadata": {
    "tags": []
   },
   "outputs": [],
   "source": [
    "Relevant_Trades[['Price','Trade_Signal']]"
   ]
  },
  {
   "cell_type": "code",
   "execution_count": null,
   "id": "cd6775fb-b4f3-4e7f-82fc-1c47042cf306",
   "metadata": {
    "tags": []
   },
   "outputs": [],
   "source": [
    "buys = Relevant_Trades['Price'][::2] #starting at index 0 i.e. first signal, every 2nd row is a buy\n",
    "sells = Relevant_Trades['Price'][1::2] #starting at index 1 i.e. 2nd signal, every 2nd row is a buy\n",
    "Returns = (sells.values -buys.values)/buys.values #because buy and sell series don't have the same index: i.e. you dont always buy and sell on the smae day, you have to subtract using .values\n",
    "Returns"
   ]
  },
  {
   "cell_type": "code",
   "execution_count": null,
   "id": "e10d2604-f62c-4096-a056-d08402d46d60",
   "metadata": {
    "tags": []
   },
   "outputs": [],
   "source": [
    "# find strategy return\n",
    "Cumulated_Returns = (Returns +1).cumprod()-1\n",
    "Cumulated_Returns"
   ]
  }
 ],
 "metadata": {
  "kernelspec": {
   "display_name": "Python 3 (ipykernel)",
   "language": "python",
   "name": "python3"
  },
  "language_info": {
   "codemirror_mode": {
    "name": "ipython",
    "version": 3
   },
   "file_extension": ".py",
   "mimetype": "text/x-python",
   "name": "python",
   "nbconvert_exporter": "python",
   "pygments_lexer": "ipython3",
   "version": "3.11.5"
  }
 },
 "nbformat": 4,
 "nbformat_minor": 5
}
