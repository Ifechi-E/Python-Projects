{
 "cells": [
  {
   "cell_type": "markdown",
   "id": "a872b00a",
   "metadata": {},
   "source": [
    "# Basics of Portfolio Analysis:\n",
    "        - Retruns Dataframe\n",
    "        - Cumulative Returns \n",
    "            - for each asset\n",
    "            - for portfolio\n",
    "        - Portfolio Return and Risk\n",
    "            - Understanding Matrix operation \n"
   ]
  },
  {
   "cell_type": "markdown",
   "id": "6fec7c8a",
   "metadata": {},
   "source": [
    "### Set up\n",
    "    - Load Libraries\n",
    "    - Download data "
   ]
  },
  {
   "cell_type": "code",
   "execution_count": 11,
   "id": "1ef72b37",
   "metadata": {},
   "outputs": [],
   "source": [
    "import pandas as pd\n",
    "import numpy as np\n",
    "import yfinance as yf"
   ]
  },
  {
   "cell_type": "code",
   "execution_count": 12,
   "id": "4771fbf9",
   "metadata": {},
   "outputs": [
    {
     "name": "stderr",
     "output_type": "stream",
     "text": [
      "[*********************100%%**********************]  3 of 3 completed\n"
     ]
    },
    {
     "data": {
      "text/html": [
       "<div>\n",
       "<style scoped>\n",
       "    .dataframe tbody tr th:only-of-type {\n",
       "        vertical-align: middle;\n",
       "    }\n",
       "\n",
       "    .dataframe tbody tr th {\n",
       "        vertical-align: top;\n",
       "    }\n",
       "\n",
       "    .dataframe thead th {\n",
       "        text-align: right;\n",
       "    }\n",
       "</style>\n",
       "<table border=\"1\" class=\"dataframe\">\n",
       "  <thead>\n",
       "    <tr style=\"text-align: right;\">\n",
       "      <th></th>\n",
       "      <th>KO</th>\n",
       "      <th>MSFT</th>\n",
       "      <th>TSLA</th>\n",
       "    </tr>\n",
       "    <tr>\n",
       "      <th>Date</th>\n",
       "      <th></th>\n",
       "      <th></th>\n",
       "      <th></th>\n",
       "    </tr>\n",
       "  </thead>\n",
       "  <tbody>\n",
       "    <tr>\n",
       "      <th>2015-01-02</th>\n",
       "      <td>31.106476</td>\n",
       "      <td>40.305370</td>\n",
       "      <td>14.620667</td>\n",
       "    </tr>\n",
       "    <tr>\n",
       "      <th>2015-01-05</th>\n",
       "      <td>31.106476</td>\n",
       "      <td>39.934727</td>\n",
       "      <td>14.006000</td>\n",
       "    </tr>\n",
       "    <tr>\n",
       "      <th>2015-01-06</th>\n",
       "      <td>31.342686</td>\n",
       "      <td>39.348595</td>\n",
       "      <td>14.085333</td>\n",
       "    </tr>\n",
       "    <tr>\n",
       "      <th>2015-01-07</th>\n",
       "      <td>31.733910</td>\n",
       "      <td>39.848530</td>\n",
       "      <td>14.063333</td>\n",
       "    </tr>\n",
       "    <tr>\n",
       "      <th>2015-01-08</th>\n",
       "      <td>32.117764</td>\n",
       "      <td>41.020805</td>\n",
       "      <td>14.041333</td>\n",
       "    </tr>\n",
       "    <tr>\n",
       "      <th>...</th>\n",
       "      <td>...</td>\n",
       "      <td>...</td>\n",
       "      <td>...</td>\n",
       "    </tr>\n",
       "    <tr>\n",
       "      <th>2024-07-22</th>\n",
       "      <td>64.769997</td>\n",
       "      <td>442.940002</td>\n",
       "      <td>251.509995</td>\n",
       "    </tr>\n",
       "    <tr>\n",
       "      <th>2024-07-23</th>\n",
       "      <td>64.959999</td>\n",
       "      <td>444.850006</td>\n",
       "      <td>246.380005</td>\n",
       "    </tr>\n",
       "    <tr>\n",
       "      <th>2024-07-24</th>\n",
       "      <td>65.809998</td>\n",
       "      <td>428.899994</td>\n",
       "      <td>215.990005</td>\n",
       "    </tr>\n",
       "    <tr>\n",
       "      <th>2024-07-25</th>\n",
       "      <td>66.070000</td>\n",
       "      <td>418.399994</td>\n",
       "      <td>220.250000</td>\n",
       "    </tr>\n",
       "    <tr>\n",
       "      <th>2024-07-26</th>\n",
       "      <td>67.000000</td>\n",
       "      <td>426.260010</td>\n",
       "      <td>221.420807</td>\n",
       "    </tr>\n",
       "  </tbody>\n",
       "</table>\n",
       "<p>2407 rows × 3 columns</p>\n",
       "</div>"
      ],
      "text/plain": [
       "                   KO        MSFT        TSLA\n",
       "Date                                         \n",
       "2015-01-02  31.106476   40.305370   14.620667\n",
       "2015-01-05  31.106476   39.934727   14.006000\n",
       "2015-01-06  31.342686   39.348595   14.085333\n",
       "2015-01-07  31.733910   39.848530   14.063333\n",
       "2015-01-08  32.117764   41.020805   14.041333\n",
       "...               ...         ...         ...\n",
       "2024-07-22  64.769997  442.940002  251.509995\n",
       "2024-07-23  64.959999  444.850006  246.380005\n",
       "2024-07-24  65.809998  428.899994  215.990005\n",
       "2024-07-25  66.070000  418.399994  220.250000\n",
       "2024-07-26  67.000000  426.260010  221.420807\n",
       "\n",
       "[2407 rows x 3 columns]"
      ]
     },
     "execution_count": 12,
     "metadata": {},
     "output_type": "execute_result"
    }
   ],
   "source": [
    "df = yf.download(['MSFT','KO','TSLA'],start='2015-01-01')['Adj Close']\n",
    "df"
   ]
  },
  {
   "cell_type": "markdown",
   "id": "8322e500",
   "metadata": {},
   "source": [
    "### Calculating Returns Dataframe and Dropping NaN row"
   ]
  },
  {
   "cell_type": "code",
   "execution_count": 13,
   "id": "49a54e82",
   "metadata": {},
   "outputs": [
    {
     "data": {
      "text/html": [
       "<div>\n",
       "<style scoped>\n",
       "    .dataframe tbody tr th:only-of-type {\n",
       "        vertical-align: middle;\n",
       "    }\n",
       "\n",
       "    .dataframe tbody tr th {\n",
       "        vertical-align: top;\n",
       "    }\n",
       "\n",
       "    .dataframe thead th {\n",
       "        text-align: right;\n",
       "    }\n",
       "</style>\n",
       "<table border=\"1\" class=\"dataframe\">\n",
       "  <thead>\n",
       "    <tr style=\"text-align: right;\">\n",
       "      <th></th>\n",
       "      <th>KO</th>\n",
       "      <th>MSFT</th>\n",
       "      <th>TSLA</th>\n",
       "    </tr>\n",
       "    <tr>\n",
       "      <th>Date</th>\n",
       "      <th></th>\n",
       "      <th></th>\n",
       "      <th></th>\n",
       "    </tr>\n",
       "  </thead>\n",
       "  <tbody>\n",
       "    <tr>\n",
       "      <th>2015-01-02</th>\n",
       "      <td>NaN</td>\n",
       "      <td>NaN</td>\n",
       "      <td>NaN</td>\n",
       "    </tr>\n",
       "    <tr>\n",
       "      <th>2015-01-05</th>\n",
       "      <td>0.000000</td>\n",
       "      <td>-0.009196</td>\n",
       "      <td>-0.042041</td>\n",
       "    </tr>\n",
       "    <tr>\n",
       "      <th>2015-01-06</th>\n",
       "      <td>0.007594</td>\n",
       "      <td>-0.014677</td>\n",
       "      <td>0.005664</td>\n",
       "    </tr>\n",
       "    <tr>\n",
       "      <th>2015-01-07</th>\n",
       "      <td>0.012482</td>\n",
       "      <td>0.012705</td>\n",
       "      <td>-0.001562</td>\n",
       "    </tr>\n",
       "    <tr>\n",
       "      <th>2015-01-08</th>\n",
       "      <td>0.012096</td>\n",
       "      <td>0.029418</td>\n",
       "      <td>-0.001564</td>\n",
       "    </tr>\n",
       "    <tr>\n",
       "      <th>...</th>\n",
       "      <td>...</td>\n",
       "      <td>...</td>\n",
       "      <td>...</td>\n",
       "    </tr>\n",
       "    <tr>\n",
       "      <th>2024-07-22</th>\n",
       "      <td>-0.007965</td>\n",
       "      <td>0.013338</td>\n",
       "      <td>0.051463</td>\n",
       "    </tr>\n",
       "    <tr>\n",
       "      <th>2024-07-23</th>\n",
       "      <td>0.002933</td>\n",
       "      <td>0.004312</td>\n",
       "      <td>-0.020397</td>\n",
       "    </tr>\n",
       "    <tr>\n",
       "      <th>2024-07-24</th>\n",
       "      <td>0.013085</td>\n",
       "      <td>-0.035855</td>\n",
       "      <td>-0.123346</td>\n",
       "    </tr>\n",
       "    <tr>\n",
       "      <th>2024-07-25</th>\n",
       "      <td>0.003951</td>\n",
       "      <td>-0.024481</td>\n",
       "      <td>0.019723</td>\n",
       "    </tr>\n",
       "    <tr>\n",
       "      <th>2024-07-26</th>\n",
       "      <td>0.014076</td>\n",
       "      <td>0.018786</td>\n",
       "      <td>0.005316</td>\n",
       "    </tr>\n",
       "  </tbody>\n",
       "</table>\n",
       "<p>2407 rows × 3 columns</p>\n",
       "</div>"
      ],
      "text/plain": [
       "                  KO      MSFT      TSLA\n",
       "Date                                    \n",
       "2015-01-02       NaN       NaN       NaN\n",
       "2015-01-05  0.000000 -0.009196 -0.042041\n",
       "2015-01-06  0.007594 -0.014677  0.005664\n",
       "2015-01-07  0.012482  0.012705 -0.001562\n",
       "2015-01-08  0.012096  0.029418 -0.001564\n",
       "...              ...       ...       ...\n",
       "2024-07-22 -0.007965  0.013338  0.051463\n",
       "2024-07-23  0.002933  0.004312 -0.020397\n",
       "2024-07-24  0.013085 -0.035855 -0.123346\n",
       "2024-07-25  0.003951 -0.024481  0.019723\n",
       "2024-07-26  0.014076  0.018786  0.005316\n",
       "\n",
       "[2407 rows x 3 columns]"
      ]
     },
     "execution_count": 13,
     "metadata": {},
     "output_type": "execute_result"
    }
   ],
   "source": [
    "ret_df = df.pct_change()\n",
    "ret_df"
   ]
  },
  {
   "cell_type": "code",
   "execution_count": 14,
   "id": "3fab6f6b",
   "metadata": {
    "scrolled": false
   },
   "outputs": [],
   "source": [
    "ret_df.dropna(inplace=True)\n",
    "ret_df"
   ]
  },
  {
   "cell_type": "markdown",
   "id": "b6b137aa",
   "metadata": {},
   "source": [
    "### Cumulated Returns for each asset. Another Method where Portfolio comulative return column is added to Returns DF will be shown later"
   ]
  },
  {
   "cell_type": "code",
   "execution_count": 15,
   "id": "479dd8ad",
   "metadata": {},
   "outputs": [
    {
     "data": {
      "text/html": [
       "<div>\n",
       "<style scoped>\n",
       "    .dataframe tbody tr th:only-of-type {\n",
       "        vertical-align: middle;\n",
       "    }\n",
       "\n",
       "    .dataframe tbody tr th {\n",
       "        vertical-align: top;\n",
       "    }\n",
       "\n",
       "    .dataframe thead th {\n",
       "        text-align: right;\n",
       "    }\n",
       "</style>\n",
       "<table border=\"1\" class=\"dataframe\">\n",
       "  <thead>\n",
       "    <tr style=\"text-align: right;\">\n",
       "      <th></th>\n",
       "      <th>KO</th>\n",
       "      <th>MSFT</th>\n",
       "      <th>TSLA</th>\n",
       "    </tr>\n",
       "    <tr>\n",
       "      <th>Date</th>\n",
       "      <th></th>\n",
       "      <th></th>\n",
       "      <th></th>\n",
       "    </tr>\n",
       "  </thead>\n",
       "  <tbody>\n",
       "    <tr>\n",
       "      <th>2015-01-05</th>\n",
       "      <td>0.000000</td>\n",
       "      <td>-0.009196</td>\n",
       "      <td>-0.042041</td>\n",
       "    </tr>\n",
       "    <tr>\n",
       "      <th>2015-01-06</th>\n",
       "      <td>0.007594</td>\n",
       "      <td>-0.023738</td>\n",
       "      <td>-0.036615</td>\n",
       "    </tr>\n",
       "    <tr>\n",
       "      <th>2015-01-07</th>\n",
       "      <td>0.020171</td>\n",
       "      <td>-0.011334</td>\n",
       "      <td>-0.038120</td>\n",
       "    </tr>\n",
       "    <tr>\n",
       "      <th>2015-01-08</th>\n",
       "      <td>0.032511</td>\n",
       "      <td>0.017750</td>\n",
       "      <td>-0.039624</td>\n",
       "    </tr>\n",
       "    <tr>\n",
       "      <th>2015-01-09</th>\n",
       "      <td>0.021120</td>\n",
       "      <td>0.009196</td>\n",
       "      <td>-0.057681</td>\n",
       "    </tr>\n",
       "    <tr>\n",
       "      <th>...</th>\n",
       "      <td>...</td>\n",
       "      <td>...</td>\n",
       "      <td>...</td>\n",
       "    </tr>\n",
       "    <tr>\n",
       "      <th>2024-07-22</th>\n",
       "      <td>1.082203</td>\n",
       "      <td>9.989603</td>\n",
       "      <td>16.202361</td>\n",
       "    </tr>\n",
       "    <tr>\n",
       "      <th>2024-07-23</th>\n",
       "      <td>1.088311</td>\n",
       "      <td>10.036991</td>\n",
       "      <td>15.851488</td>\n",
       "    </tr>\n",
       "    <tr>\n",
       "      <th>2024-07-24</th>\n",
       "      <td>1.115637</td>\n",
       "      <td>9.641262</td>\n",
       "      <td>13.772924</td>\n",
       "    </tr>\n",
       "    <tr>\n",
       "      <th>2024-07-25</th>\n",
       "      <td>1.123995</td>\n",
       "      <td>9.380751</td>\n",
       "      <td>14.064292</td>\n",
       "    </tr>\n",
       "    <tr>\n",
       "      <th>2024-07-26</th>\n",
       "      <td>1.153892</td>\n",
       "      <td>9.575762</td>\n",
       "      <td>14.144371</td>\n",
       "    </tr>\n",
       "  </tbody>\n",
       "</table>\n",
       "<p>2406 rows × 3 columns</p>\n",
       "</div>"
      ],
      "text/plain": [
       "                  KO       MSFT       TSLA\n",
       "Date                                      \n",
       "2015-01-05  0.000000  -0.009196  -0.042041\n",
       "2015-01-06  0.007594  -0.023738  -0.036615\n",
       "2015-01-07  0.020171  -0.011334  -0.038120\n",
       "2015-01-08  0.032511   0.017750  -0.039624\n",
       "2015-01-09  0.021120   0.009196  -0.057681\n",
       "...              ...        ...        ...\n",
       "2024-07-22  1.082203   9.989603  16.202361\n",
       "2024-07-23  1.088311  10.036991  15.851488\n",
       "2024-07-24  1.115637   9.641262  13.772924\n",
       "2024-07-25  1.123995   9.380751  14.064292\n",
       "2024-07-26  1.153892   9.575762  14.144371\n",
       "\n",
       "[2406 rows x 3 columns]"
      ]
     },
     "execution_count": 15,
     "metadata": {},
     "output_type": "execute_result"
    }
   ],
   "source": [
    "(ret_df + 1).cumprod() - 1"
   ]
  },
  {
   "cell_type": "code",
   "execution_count": 16,
   "id": "724be2fc",
   "metadata": {},
   "outputs": [
    {
     "data": {
      "text/plain": [
       "<Axes: xlabel='Date'>"
      ]
     },
     "execution_count": 16,
     "metadata": {},
     "output_type": "execute_result"
    },
    {
     "data": {
      "image/png": "[encoded data removed]",
      "text/plain": [
       "<Figure size 640x480 with 1 Axes>"
      ]
     },
     "metadata": {},
     "output_type": "display_data"
    }
   ],
   "source": [
    "((ret_df + 1).cumprod() - 1).plot()"
   ]
  },
  {
   "cell_type": "markdown",
   "id": "667483d7",
   "metadata": {},
   "source": [
    "### Important Metrics about the Returns DF"
   ]
  },
  {
   "cell_type": "code",
   "execution_count": 22,
   "id": "3c7cb18d",
   "metadata": {
    "scrolled": false
   },
   "outputs": [
    {
     "data": {
      "text/plain": [
       "(KO      0.000383\n",
       " MSFT    0.001130\n",
       " TSLA    0.001762\n",
       " dtype: float64,\n",
       " KO      0.011297\n",
       " MSFT    0.017271\n",
       " TSLA    0.035584\n",
       " dtype: float64,\n",
       "             KO      MSFT      TSLA\n",
       " KO    0.000128  0.000080  0.000070\n",
       " MSFT  0.000080  0.000298  0.000248\n",
       " TSLA  0.000070  0.000248  0.001266,\n",
       "             KO      MSFT      TSLA\n",
       " KO    1.000000  0.411186  0.174112\n",
       " MSFT  0.411186  1.000000  0.403204\n",
       " TSLA  0.174112  0.403204  1.000000,\n",
       " KO      0.033913\n",
       " MSFT    0.065411\n",
       " TSLA    0.049509\n",
       " dtype: float64)"
      ]
     },
     "execution_count": 22,
     "metadata": {},
     "output_type": "execute_result"
    }
   ],
   "source": [
    "ret_df.mean(), ret_df.std(), ret_df.cov(), ret_df.corr(), ret_df.mean()/ret_df.std()\n",
    "#Sharpe ratios of the components is the last one "
   ]
  },
  {
   "cell_type": "code",
   "execution_count": 11,
   "id": "890ef19d",
   "metadata": {
    "scrolled": true
   },
   "outputs": [
    {
     "data": {
      "text/html": [
       "<div>\n",
       "<style scoped>\n",
       "    .dataframe tbody tr th:only-of-type {\n",
       "        vertical-align: middle;\n",
       "    }\n",
       "\n",
       "    .dataframe tbody tr th {\n",
       "        vertical-align: top;\n",
       "    }\n",
       "\n",
       "    .dataframe thead th {\n",
       "        text-align: right;\n",
       "    }\n",
       "</style>\n",
       "<table border=\"1\" class=\"dataframe\">\n",
       "  <thead>\n",
       "    <tr style=\"text-align: right;\">\n",
       "      <th></th>\n",
       "      <th>KO</th>\n",
       "      <th>MSFT</th>\n",
       "      <th>TSLA</th>\n",
       "    </tr>\n",
       "  </thead>\n",
       "  <tbody>\n",
       "    <tr>\n",
       "      <th>KO</th>\n",
       "      <td>0.000136</td>\n",
       "      <td>0.000090</td>\n",
       "      <td>0.000078</td>\n",
       "    </tr>\n",
       "    <tr>\n",
       "      <th>MSFT</th>\n",
       "      <td>0.000090</td>\n",
       "      <td>0.000315</td>\n",
       "      <td>0.000264</td>\n",
       "    </tr>\n",
       "    <tr>\n",
       "      <th>TSLA</th>\n",
       "      <td>0.000078</td>\n",
       "      <td>0.000264</td>\n",
       "      <td>0.001284</td>\n",
       "    </tr>\n",
       "  </tbody>\n",
       "</table>\n",
       "</div>"
      ],
      "text/plain": [
       "            KO      MSFT      TSLA\n",
       "KO    0.000136  0.000090  0.000078\n",
       "MSFT  0.000090  0.000315  0.000264\n",
       "TSLA  0.000078  0.000264  0.001284"
      ]
     },
     "execution_count": 11,
     "metadata": {},
     "output_type": "execute_result"
    }
   ],
   "source": [
    "ret_df.cov()"
   ]
  },
  {
   "cell_type": "code",
   "execution_count": 12,
   "id": "3026fa23",
   "metadata": {
    "scrolled": true
   },
   "outputs": [
    {
     "data": {
      "text/html": [
       "<div>\n",
       "<style scoped>\n",
       "    .dataframe tbody tr th:only-of-type {\n",
       "        vertical-align: middle;\n",
       "    }\n",
       "\n",
       "    .dataframe tbody tr th {\n",
       "        vertical-align: top;\n",
       "    }\n",
       "\n",
       "    .dataframe thead th {\n",
       "        text-align: right;\n",
       "    }\n",
       "</style>\n",
       "<table border=\"1\" class=\"dataframe\">\n",
       "  <thead>\n",
       "    <tr style=\"text-align: right;\">\n",
       "      <th></th>\n",
       "      <th>KO</th>\n",
       "      <th>MSFT</th>\n",
       "      <th>TSLA</th>\n",
       "    </tr>\n",
       "  </thead>\n",
       "  <tbody>\n",
       "    <tr>\n",
       "      <th>KO</th>\n",
       "      <td>1.000000</td>\n",
       "      <td>0.433855</td>\n",
       "      <td>0.185887</td>\n",
       "    </tr>\n",
       "    <tr>\n",
       "      <th>MSFT</th>\n",
       "      <td>0.433855</td>\n",
       "      <td>1.000000</td>\n",
       "      <td>0.414323</td>\n",
       "    </tr>\n",
       "    <tr>\n",
       "      <th>TSLA</th>\n",
       "      <td>0.185887</td>\n",
       "      <td>0.414323</td>\n",
       "      <td>1.000000</td>\n",
       "    </tr>\n",
       "  </tbody>\n",
       "</table>\n",
       "</div>"
      ],
      "text/plain": [
       "            KO      MSFT      TSLA\n",
       "KO    1.000000  0.433855  0.185887\n",
       "MSFT  0.433855  1.000000  0.414323\n",
       "TSLA  0.185887  0.414323  1.000000"
      ]
     },
     "execution_count": 12,
     "metadata": {},
     "output_type": "execute_result"
    }
   ],
   "source": [
    "ret_df.corr()"
   ]
  },
  {
   "cell_type": "markdown",
   "id": "f1abe40a",
   "metadata": {},
   "source": [
    "### Creating the Weights Vector. \n",
    "    - Necessary before considering the assets as a portfolio\n",
    "    - i.e. prior they have been standalone assets. The weights vector gives weighting \n",
    "      of each so their individual metrics can now be combined"
   ]
  },
  {
   "cell_type": "code",
   "execution_count": 13,
   "id": "83ed2202",
   "metadata": {},
   "outputs": [],
   "source": [
    "W = np.ones(len(ret_df.columns))/len(ret_df.columns)\n",
    "W"
   ]
  },
  {
   "cell_type": "code",
   "execution_count": 15,
   "id": "a8553f6a",
   "metadata": {
    "scrolled": true
   },
   "outputs": [],
   "source": [
    "pf_exp = W.dot(ret_df.mean())\n",
    "pf_exp"
   ]
  },
  {
   "cell_type": "code",
   "execution_count": 16,
   "id": "a6119c27",
   "metadata": {},
   "outputs": [],
   "source": [
    "pf_std = (W.dot(ret_df.cov().dot(W)))**(1/2)\n",
    "pf_std"
   ]
  },
  {
   "cell_type": "code",
   "execution_count": 21,
   "id": "2c0bdf40",
   "metadata": {},
   "outputs": [
    {
     "data": {
      "text/plain": [
       "0.06920656220532359"
      ]
     },
     "execution_count": 21,
     "metadata": {},
     "output_type": "execute_result"
    }
   ],
   "source": [
    "pf_exp/pf_std\n",
    "#sharpe ratio of the portfolio"
   ]
  },
  {
   "cell_type": "markdown",
   "id": "1c18ffc7",
   "metadata": {},
   "source": [
    "### Portfolio Cumulative Returns?"
   ]
  },
  {
   "cell_type": "code",
   "execution_count": 24,
   "id": "ed73cb9a",
   "metadata": {
    "scrolled": true
   },
   "outputs": [
    {
     "data": {
      "text/plain": [
       "Date\n",
       "2015-01-05   -0.017079\n",
       "2015-01-06   -0.000473\n",
       "2015-01-07    0.007875\n",
       "2015-01-08    0.013317\n",
       "2015-01-09   -0.012746\n",
       "                ...   \n",
       "2023-06-09    0.015660\n",
       "2023-06-12    0.011134\n",
       "2023-06-13    0.015628\n",
       "2023-06-14    0.002828\n",
       "2023-06-15    0.014057\n",
       "Length: 2127, dtype: float64"
      ]
     },
     "execution_count": 24,
     "metadata": {},
     "output_type": "execute_result"
    }
   ],
   "source": [
    "#only able to do the mean like this as it is an equal weight portfolio?\n",
    "ret_df.mean(axis=1)"
   ]
  },
  {
   "cell_type": "code",
   "execution_count": 25,
   "id": "0ff0de1d",
   "metadata": {},
   "outputs": [
    {
     "data": {
      "text/plain": [
       "Date\n",
       "2015-01-05   -0.017079\n",
       "2015-01-06   -0.017544\n",
       "2015-01-07   -0.009807\n",
       "2015-01-08    0.003379\n",
       "2015-01-09   -0.009410\n",
       "                ...   \n",
       "2023-06-09    7.569672\n",
       "2023-06-12    7.665086\n",
       "2023-06-13    7.800501\n",
       "2023-06-14    7.825392\n",
       "2023-06-15    7.949454\n",
       "Length: 2127, dtype: float64"
      ]
     },
     "execution_count": 25,
     "metadata": {},
     "output_type": "execute_result"
    }
   ],
   "source": [
    "(ret_df.mean(axis=1) + 1).cumprod() - 1"
   ]
  },
  {
   "cell_type": "code",
   "execution_count": 26,
   "id": "a84d5f1d",
   "metadata": {},
   "outputs": [
    {
     "data": {
      "text/plain": [
       "<AxesSubplot:xlabel='Date'>"
      ]
     },
     "execution_count": 26,
     "metadata": {},
     "output_type": "execute_result"
    },
    {
     "data": {
      "image/png": "[encoded data removed]",
      "text/plain": [
       "<Figure size 640x480 with 1 Axes>"
      ]
     },
     "metadata": {},
     "output_type": "display_data"
    }
   ],
   "source": [
    "((ret_df.mean(axis=1) + 1).cumprod() - 1).plot()"
   ]
  }
 ],
 "metadata": {
  "kernelspec": {
   "display_name": "Python 3 (ipykernel)",
   "language": "python",
   "name": "python3"
  },
  "language_info": {
   "codemirror_mode": {
    "name": "ipython",
    "version": 3
   },
   "file_extension": ".py",
   "mimetype": "text/x-python",
   "name": "python",
   "nbconvert_exporter": "python",
   "pygments_lexer": "ipython3",
   "version": "3.11.5"
  }
 },
 "nbformat": 4,
 "nbformat_minor": 5
}
