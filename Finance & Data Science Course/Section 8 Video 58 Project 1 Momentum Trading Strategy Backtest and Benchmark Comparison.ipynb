{
 "cells": [
  {
   "cell_type": "markdown",
   "metadata": {},
   "source": [
    "# Momentum Trading Strategy on the SNP 500\n",
    "#### ----Correcting for Survivorship Bias \n",
    "                - Buys and hold for 1 month the top 5 performing stock. \n",
    "                - Performance based on top 5 highest returns of the past 12 months \n",
    "                 \n",
    "Survivorship Bias:  taking SNP as of today would inplicity assume all the stock added were always in the SNP 500 <br>and all the stocks removed were never in the index. aka winners were always winners and vise versa\n",
    "                - by including the stocks removed from the SNP 500 until the date they were removed\n",
    "                  and excluding the added stocks until the date they were added \n",
    "     "
   ]
  },
  {
   "cell_type": "markdown",
   "metadata": {},
   "source": [
    "## Libraries + Setup"
   ]
  },
  {
   "cell_type": "markdown",
   "metadata": {},
   "source": [
    "##### Libraries and set start Date"
   ]
  },
  {
   "cell_type": "code",
   "execution_count": null,
   "metadata": {},
   "outputs": [],
   "source": [
    "import pandas as pd\n",
    "import yfinance as yf\n",
    "import numpy as np"
   ]
  },
  {
   "cell_type": "code",
   "execution_count": null,
   "metadata": {},
   "outputs": [],
   "source": [
    "#define a start Date\n",
    "start = '2020-01-01'"
   ]
  },
  {
   "cell_type": "markdown",
   "metadata": {},
   "source": [
    "##### Pull in a table of all the Stocks currently in the SNP 500 <br> the date added is already in this table\n",
    "    - And start a stocklist for the data import later\n"
   ]
  },
  {
   "cell_type": "code",
   "execution_count": null,
   "metadata": {},
   "outputs": [],
   "source": [
    "overall = pd.read_html('https://en.wikipedia.org/wiki/List_of_S%26P_500_companies')[0] # Pull in the table at idex 0 i.e. the first table from the given link \n",
    "\n",
    "overall"
   ]
  },
  {
   "cell_type": "code",
   "execution_count": null,
   "metadata": {},
   "outputs": [],
   "source": [
    "#get a list of tall the tickers currently in the SNP500\n",
    "stock_list = overall['Symbol']\n",
    "stock_list = stock_list.to_list()\n",
    "stock_list"
   ]
  },
  {
   "cell_type": "code",
   "execution_count": null,
   "metadata": {},
   "outputs": [],
   "source": [
    "#only the ones added after analysis start date\n",
    "overall = overall[overall['Date added'] >= start]\n",
    "overall"
   ]
  },
  {
   "cell_type": "markdown",
   "metadata": {},
   "source": [
    "##### Pull in a table of all the Stocks removed from the SNP500 after the analysis start date <br> and add the stocks to the stok list for import later"
   ]
  },
  {
   "cell_type": "code",
   "execution_count": null,
   "metadata": {},
   "outputs": [],
   "source": [
    "#The Date is the Date things happened. Removed Column has the stocks removed that day\n",
    "removed = pd.read_html('https://en.wikipedia.org/wiki/List_of_S%26P_500_companies')[1][['Date','Removed']]\n",
    "\n",
    "#make the column called Date the index and then make it recognisable as a Date/Time\n",
    "removed = removed.set_index(removed['Date']['Date'])  \n",
    "removed.index = pd.to_datetime(removed.index)       \n",
    "\n",
    "#filter out anything that happened before the choses analysis start date\n",
    "removed = removed[removed.index >= start] \n",
    "\n",
    "removed = removed['Removed'].dropna() #get rid of the pivoted headers.\n",
    "removed"
   ]
  },
  {
   "cell_type": "code",
   "execution_count": null,
   "metadata": {},
   "outputs": [],
   "source": [
    "#add the removed stock to the stock list \n",
    "stock_list.extend(removed['Ticker'].to_list())\n",
    "stock_list"
   ]
  },
  {
   "cell_type": "markdown",
   "metadata": {},
   "source": [
    "### The Import"
   ]
  },
  {
   "cell_type": "code",
   "execution_count": null,
   "metadata": {
    "slideshow": {
     "slide_type": "slide"
    }
   },
   "outputs": [],
   "source": [
    "df = yf.download(stock_list, start)['Adj Close']\n",
    "\n",
    "#if for some reason it did not auto recognises as Date time index\n",
    "#df.index = pd.DatetimeIndex(df.index)"
   ]
  },
  {
   "cell_type": "markdown",
   "metadata": {},
   "source": [
    "### Setting up the DF"
   ]
  },
  {
   "cell_type": "code",
   "execution_count": null,
   "metadata": {},
   "outputs": [],
   "source": [
    "df"
   ]
  },
  {
   "cell_type": "markdown",
   "metadata": {},
   "source": [
    "#### Setting up the filtering Functions \n",
    "        - Don't show values for stocks before they were added\n",
    "        - Don't show values for stocks after tehy were removed"
   ]
  },
  {
   "cell_type": "code",
   "execution_count": null,
   "metadata": {},
   "outputs": [],
   "source": [
    "#Proof of concept for filtering formulas: example is removed filter\n",
    "        # A boolean mask that returns true for all the dates <= removal date\n",
    "df['RHI'].index <= removed[removed['Ticker'] == 'RHI'].index[0]"
   ]
  },
  {
   "cell_type": "code",
   "execution_count": null,
   "metadata": {},
   "outputs": [],
   "source": [
    "#find the ticker in the df, look for where the ticker shows up in removed_df and call the index of it (since the index of the removed_df is the date). Then create a boolean mask returning trune where the main_df index <= removed date. And fiter the main_df by this mask \n",
    "def removal_filter(ticker):\n",
    "    df[ticker] = df[ticker][df[ticker].index <= removed[removed['Ticker'] == ticker].index[0]]\n",
    "\n",
    "#same for added flipped inequality and added Date stored in Date Added column of hte overall_df\n",
    "def added_filter(ticker):\n",
    "     df[ticker] = df[ticker][df[ticker].index >= overall[overall['Symbol'] == ticker]['Date added'].values[0]]"
   ]
  },
  {
   "cell_type": "markdown",
   "metadata": {},
   "source": [
    "#### Filter DF"
   ]
  },
  {
   "cell_type": "code",
   "execution_count": null,
   "metadata": {},
   "outputs": [],
   "source": [
    "for removed_ticker in removed['Ticker']:\n",
    "    removal_filter(removed_ticker)\n",
    "\n",
    "for added_ticker in overall['Symbol']:\n",
    "    added_filter(added_ticker)\n",
    "    \n",
    "df"
   ]
  },
  {
   "cell_type": "markdown",
   "metadata": {},
   "source": [
    "### Now the DF is corrected for Survivorship Bias, the Strategy Operation can be coded out"
   ]
  },
  {
   "cell_type": "markdown",
   "metadata": {},
   "source": [
    "## Strategy Operation"
   ]
  },
  {
   "cell_type": "markdown",
   "metadata": {},
   "source": [
    "#### Setting up the required DFs"
   ]
  },
  {
   "cell_type": "code",
   "execution_count": null,
   "metadata": {},
   "outputs": [],
   "source": [
    "#simple returns. \n",
    "retdf = df.pct_change()\n",
    "retdf"
   ]
  },
  {
   "cell_type": "code",
   "execution_count": null,
   "metadata": {},
   "outputs": [],
   "source": [
    "#returns resampled monthly. helpful for finding the returns in the next period and also rolling over to find the 12 returns \n",
    "monthly_retdf = (retdf +1).resample('M').prod()\n",
    "monthly_retdf"
   ]
  },
  {
   "cell_type": "code",
   "execution_count": null,
   "metadata": {},
   "outputs": [],
   "source": [
    "#technically not needed as a separeate DF but easier to call a var name than the long formula\n",
    "anual_return = monthly_retdf.rolling(12).apply(np.prod).dropna()\n",
    "anual_return"
   ]
  },
  {
   "cell_type": "markdown",
   "metadata": {},
   "source": [
    "#### Define Fucntion for Top 5 Performers over the last 12months' returns over the following month <br>(assuming equal weight portfolio)"
   ]
  },
  {
   "cell_type": "code",
   "execution_count": null,
   "metadata": {},
   "outputs": [],
   "source": [
    "# Proof of concept for the top performers function\n",
    "#gets the top performers in the first row. \n",
    "top = anual_return.iloc[0].nlargest(5)  \n",
    "top\n",
    "#found out it stores it as a series where the index are the stock tickers and the 'name' attribute is the date.\n",
    "#based on this we can use these attibutes to build a get_top performers function"
   ]
  },
  {
   "cell_type": "code",
   "execution_count": null,
   "metadata": {},
   "outputs": [],
   "source": [
    "# filter the monthly returms_df by: \n",
    "# [date from top_series onwards],[only look at the next row],[only look at the stock tickers from the top_series]\n",
    "z = monthly_retdf[top.name:][1:2][top.index]\n",
    "z"
   ]
  },
  {
   "cell_type": "code",
   "execution_count": null,
   "metadata": {},
   "outputs": [],
   "source": [
    "#assuming equal weight portfolio, the mean of the columns:\n",
    "#.mean(axis=1) is the return of said portfolio of assets\n",
    "z.mean(axis= 1).values[0]"
   ]
  },
  {
   "cell_type": "code",
   "execution_count": null,
   "metadata": {},
   "outputs": [],
   "source": [
    "#putting the above process into a function \n",
    "def top_performers(date):\n",
    "   toppers= anual_return.loc[date].nlargest(5)\n",
    "   relevant_return = monthly_retdf[toppers.name:][1:2][toppers.index]\n",
    "   return relevant_return.mean(axis =1).values[0]"
   ]
  },
  {
   "cell_type": "markdown",
   "metadata": {},
   "source": [
    "## Compute Strategy Returns & Metrics "
   ]
  },
  {
   "cell_type": "code",
   "execution_count": null,
   "metadata": {},
   "outputs": [],
   "source": [
    "#run the above function for each line of the annual_df excetpt the last since there is no way to know what the ret=urn of a currently open portfolio weill be\n",
    "\n",
    "#and assigh all the reeturs to the returns list\n",
    "returns = []\n",
    "\n",
    "for date in anual_return.index[:-1]:\n",
    "    returns.append(top_performers(date))\n",
    "\n",
    "returns"
   ]
  },
  {
   "cell_type": "code",
   "execution_count": null,
   "metadata": {},
   "outputs": [],
   "source": [
    "Strategy_ret = pd.Series(returns, index = anual_return.index[:-1])\n",
    "Strategy_ret.cumprod().plot()"
   ]
  },
  {
   "cell_type": "code",
   "execution_count": 46,
   "metadata": {},
   "outputs": [
    {
     "data": {
      "text/plain": [
       "2.3307466805945074"
      ]
     },
     "execution_count": 46,
     "metadata": {},
     "output_type": "execute_result"
    }
   ],
   "source": [
    "Strategy_ret.prod(), Strategy_ret.std(), Strategy_ret.prod() / Strategy_ret.std() "
   ]
  },
  {
   "cell_type": "markdown",
   "metadata": {},
   "source": [
    "## Benchmarking & Comparison"
   ]
  },
  {
   "cell_type": "markdown",
   "metadata": {},
   "source": [
    "### Compare to Regular SNP 500"
   ]
  },
  {
   "cell_type": "code",
   "execution_count": null,
   "metadata": {},
   "outputs": [],
   "source": [
    "snp = yf.download(\"^GSPC\", start)['Adj Close']\n",
    "snpret = snp.pct_change()\n",
    "\n",
    "snpcumret = (snpret+1).cumprod()\n",
    "snpcumret.plot(), snpcumret"
   ]
  },
  {
   "cell_type": "markdown",
   "metadata": {},
   "source": [
    "### Compare to Strategy without correcting for survivorship bias"
   ]
  },
  {
   "cell_type": "code",
   "execution_count": null,
   "metadata": {},
   "outputs": [],
   "source": [
    "df3 = yf.download(overall['Symbol'].to_list(),start)['Adj Close']"
   ]
  },
  {
   "cell_type": "markdown",
   "metadata": {},
   "source": [
    "#### Setting up Biased DF .i.e. Uncorrected for Survivorship Bias"
   ]
  },
  {
   "cell_type": "code",
   "execution_count": null,
   "metadata": {},
   "outputs": [],
   "source": [
    "df3rets =df3.pct_change()\n",
    "df3mthlyrets = (df3rets+1).resample('M').prod()\n",
    "df3anualrets = df3mthlyrets.rolling(12).apply(np.prod).dropna()"
   ]
  },
  {
   "cell_type": "code",
   "execution_count": null,
   "metadata": {},
   "outputs": [],
   "source": [
    "def biased_top_performers(date):\n",
    "   toppers = df3anualrets.loc[date].nlargest(5)\n",
    "   relevant_return = df3mthlyrets[toppers.name:][1:2][toppers.index]\n",
    "   return relevant_return.mean(axis =1).values[0]"
   ]
  },
  {
   "cell_type": "markdown",
   "metadata": {},
   "source": [
    "#### Same Strategy Operation and Analysis. \n",
    "Suspect something is wrong here. Returns shoudl be much higher if you don't account for\n",
    "Survivorship Bias. "
   ]
  },
  {
   "cell_type": "code",
   "execution_count": null,
   "metadata": {},
   "outputs": [],
   "source": [
    "biased_returns = []\n",
    "\n",
    "for date in df3anualrets.index[:-1]:\n",
    "    biased_returns.append(biased_top_performers(date))\n",
    "\n",
    "biased_returns"
   ]
  },
  {
   "cell_type": "code",
   "execution_count": null,
   "metadata": {},
   "outputs": [],
   "source": [
    "biased_returns = pd.Series(biased_returns, index= df3anualrets.index[:-1])\n",
    "biased_returns.cumprod().plot() "
   ]
  },
  {
   "cell_type": "code",
   "execution_count": null,
   "metadata": {},
   "outputs": [],
   "source": [
    "biased_returns.cumprod()"
   ]
  },
  {
   "cell_type": "code",
   "execution_count": null,
   "metadata": {},
   "outputs": [],
   "source": []
  }
 ],
 "metadata": {
  "kernelspec": {
   "display_name": "base",
   "language": "python",
   "name": "python3"
  },
  "language_info": {
   "codemirror_mode": {
    "name": "ipython",
    "version": 3
   },
   "file_extension": ".py",
   "mimetype": "text/x-python",
   "name": "python",
   "nbconvert_exporter": "python",
   "pygments_lexer": "ipython3",
   "version": "3.11.5"
  }
 },
 "nbformat": 4,
 "nbformat_minor": 2
}
