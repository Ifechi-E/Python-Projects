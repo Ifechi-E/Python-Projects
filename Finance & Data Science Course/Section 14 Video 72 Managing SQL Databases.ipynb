{
 "cells": [
  {
   "cell_type": "code",
   "execution_count": null,
   "metadata": {},
   "outputs": [],
   "source": [
    "import pandas as pd\n",
    "import yfinance as yf\n",
    "from sqlalchemy import create_engine"
   ]
  },
  {
   "cell_type": "code",
   "execution_count": null,
   "metadata": {},
   "outputs": [],
   "source": [
    "engine = create_engine('sqlite:///Section 14 Video 72 SNP 500 Stocks DataBase.db')"
   ]
  },
  {
   "cell_type": "markdown",
   "metadata": {},
   "source": [
    "### Database management functions proof of concept"
   ]
  },
  {
   "cell_type": "code",
   "execution_count": null,
   "metadata": {},
   "outputs": [],
   "source": [
    "df = yf.download('AAPL', start= '2010-01-01', end= '2024-08-31')\n",
    "df"
   ]
  },
  {
   "cell_type": "code",
   "execution_count": null,
   "metadata": {},
   "outputs": [],
   "source": [
    "df.to_sql('Apple', engine)"
   ]
  },
  {
   "cell_type": "markdown",
   "metadata": {},
   "source": []
  },
  {
   "cell_type": "code",
   "execution_count": null,
   "metadata": {},
   "outputs": [],
   "source": [
    "pd.read_sql('Apple', engine)"
   ]
  },
  {
   "cell_type": "code",
   "execution_count": null,
   "metadata": {},
   "outputs": [],
   "source": [
    "df_2 = yf.download('AAPL', start= '2010-01-01', end= '2024-09-06')\n",
    "df_2\n",
    "#there is an additional week's worth of data but the rest of the df is teh same"
   ]
  },
  {
   "cell_type": "code",
   "execution_count": null,
   "metadata": {},
   "outputs": [],
   "source": [
    "max_date = pd.read_sql('Select max(Date) from Apple', engine).values[0][0]"
   ]
  },
  {
   "cell_type": "code",
   "execution_count": null,
   "metadata": {},
   "outputs": [],
   "source": [
    "df_2[df_2.index > max_date]"
   ]
  },
  {
   "cell_type": "markdown",
   "metadata": {},
   "source": [
    "### Functions to Abstract Database Management "
   ]
  },
  {
   "cell_type": "code",
   "execution_count": null,
   "metadata": {},
   "outputs": [],
   "source": [
    "def custom_create_engine(name :str):\n",
    "    engine = create_engine(f'sqlite:///{name} DataBase.db')\n",
    "    return engine \n",
    "\n",
    "def create_db(ticker: str,start: str):\n",
    "    df = yf.download(ticker, pd.to_datetime(start))\n",
    "    df.to_sql(f'{ticker}', engine)\n",
    "    return pd.read_sql(f'{ticker}', engine)\n",
    "\n",
    "def SQL_importer(ticker, engine):\n",
    "    try:    \n",
    "        #updating a table already in DB\n",
    "        max_date = pd.read_sql(f'Select max(Date) from {ticker}', engine).values[0][0]\n",
    "        df = yf.download(ticker, start = pd.to_datetime(max_date))\n",
    "        new_values = df[df.index > max_date]\n",
    "        new_values.to_sql(f'{ticker}', if_exists = 'append')\n",
    "        return print(f'{len(new_values)} new rows have been added since the last date of {max_date} in the database') \n",
    "    except:\n",
    "        #create the table in DB if it doesn't exist\n",
    "        create_db(ticker,'2010-01-01')\n",
    "        print(f'{ticker} data was imported from analysis start to {max_date}')"
   ]
  },
  {
   "cell_type": "code",
   "execution_count": null,
   "metadata": {},
   "outputs": [],
   "source": [
    "tickers = pd.read_html('https://en.wikipedia.org/wiki/List_of_S%26P_500_companies')[0]['Symbol']\n",
    "tickers = tickers.to_list()"
   ]
  },
  {
   "cell_type": "code",
   "execution_count": null,
   "metadata": {},
   "outputs": [],
   "source": [
    "create_db(tickers[0],'2010-01-01')"
   ]
  },
  {
   "cell_type": "code",
   "execution_count": null,
   "metadata": {},
   "outputs": [],
   "source": [
    "for ticker in tickers:\n",
    "    try:\n",
    "        SQL_importer(ticker,engine)\n",
    "    except:\n",
    "        print(f'import of {ticker} failed')"
   ]
  },
  {
   "cell_type": "markdown",
   "metadata": {},
   "source": [
    "### ^^^Video 73 is teach's way of doing the above ^^^"
   ]
  },
  {
   "cell_type": "markdown",
   "metadata": {},
   "source": []
  }
 ],
 "metadata": {
  "kernelspec": {
   "display_name": "base",
   "language": "python",
   "name": "python3"
  },
  "language_info": {
   "codemirror_mode": {
    "name": "ipython",
    "version": 3
   },
   "file_extension": ".py",
   "mimetype": "text/x-python",
   "name": "python",
   "nbconvert_exporter": "python",
   "pygments_lexer": "ipython3",
   "version": "3.11.5"
  }
 },
 "nbformat": 4,
 "nbformat_minor": 2
}
