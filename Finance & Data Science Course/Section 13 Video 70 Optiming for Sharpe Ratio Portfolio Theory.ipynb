{
 "cells": [
  {
   "cell_type": "markdown",
   "metadata": {},
   "source": [
    "# Optimising Portfolio for Sharpe Ratio"
   ]
  },
  {
   "cell_type": "markdown",
   "metadata": {},
   "source": [
    "### Set up"
   ]
  },
  {
   "cell_type": "code",
   "execution_count": 56,
   "metadata": {},
   "outputs": [],
   "source": [
    "import yfinance as yf\n",
    "import numpy as np\n",
    "import pandas as pd\n",
    "from scipy.optimize import minimize\n",
    "from scipy.optimize import Bounds "
   ]
  },
  {
   "cell_type": "code",
   "execution_count": 2,
   "metadata": {},
   "outputs": [
    {
     "name": "stderr",
     "output_type": "stream",
     "text": [
      "[*********************100%%**********************]  7 of 7 completed\n"
     ]
    }
   ],
   "source": [
    "tickers = ['AAPL','INTC','SBUX','GC=F','CL=F', '^GSPC', '^FTSE']\n",
    "df = yf.download(tickers,start= '2010-01-01')['Adj Close']"
   ]
  },
  {
   "cell_type": "code",
   "execution_count": 3,
   "metadata": {},
   "outputs": [
    {
     "data": {
      "text/html": [
       "<div>\n",
       "<style scoped>\n",
       "    .dataframe tbody tr th:only-of-type {\n",
       "        vertical-align: middle;\n",
       "    }\n",
       "\n",
       "    .dataframe tbody tr th {\n",
       "        vertical-align: top;\n",
       "    }\n",
       "\n",
       "    .dataframe thead th {\n",
       "        text-align: right;\n",
       "    }\n",
       "</style>\n",
       "<table border=\"1\" class=\"dataframe\">\n",
       "  <thead>\n",
       "    <tr style=\"text-align: right;\">\n",
       "      <th></th>\n",
       "      <th>AAPL</th>\n",
       "      <th>CL=F</th>\n",
       "      <th>GC=F</th>\n",
       "      <th>INTC</th>\n",
       "      <th>SBUX</th>\n",
       "      <th>^FTSE</th>\n",
       "      <th>^GSPC</th>\n",
       "    </tr>\n",
       "    <tr>\n",
       "      <th>Date</th>\n",
       "      <th></th>\n",
       "      <th></th>\n",
       "      <th></th>\n",
       "      <th></th>\n",
       "      <th></th>\n",
       "      <th></th>\n",
       "      <th></th>\n",
       "    </tr>\n",
       "  </thead>\n",
       "  <tbody>\n",
       "    <tr>\n",
       "      <th>2010-01-04</th>\n",
       "      <td>6.454507</td>\n",
       "      <td>81.510002</td>\n",
       "      <td>1117.699951</td>\n",
       "      <td>13.519423</td>\n",
       "      <td>8.890196</td>\n",
       "      <td>5500.299805</td>\n",
       "      <td>1132.989990</td>\n",
       "    </tr>\n",
       "    <tr>\n",
       "      <th>2010-01-05</th>\n",
       "      <td>6.465663</td>\n",
       "      <td>81.769997</td>\n",
       "      <td>1118.099976</td>\n",
       "      <td>13.512953</td>\n",
       "      <td>9.098469</td>\n",
       "      <td>5522.500000</td>\n",
       "      <td>1136.520020</td>\n",
       "    </tr>\n",
       "    <tr>\n",
       "      <th>2010-01-06</th>\n",
       "      <td>6.362821</td>\n",
       "      <td>83.180000</td>\n",
       "      <td>1135.900024</td>\n",
       "      <td>13.467627</td>\n",
       "      <td>9.032903</td>\n",
       "      <td>5530.000000</td>\n",
       "      <td>1137.140015</td>\n",
       "    </tr>\n",
       "    <tr>\n",
       "      <th>2010-01-07</th>\n",
       "      <td>6.351056</td>\n",
       "      <td>82.660004</td>\n",
       "      <td>1133.099976</td>\n",
       "      <td>13.338135</td>\n",
       "      <td>9.009759</td>\n",
       "      <td>5526.700195</td>\n",
       "      <td>1141.689941</td>\n",
       "    </tr>\n",
       "    <tr>\n",
       "      <th>2010-01-08</th>\n",
       "      <td>6.393280</td>\n",
       "      <td>82.750000</td>\n",
       "      <td>1138.199951</td>\n",
       "      <td>13.487049</td>\n",
       "      <td>8.978904</td>\n",
       "      <td>5534.200195</td>\n",
       "      <td>1144.979980</td>\n",
       "    </tr>\n",
       "    <tr>\n",
       "      <th>...</th>\n",
       "      <td>...</td>\n",
       "      <td>...</td>\n",
       "      <td>...</td>\n",
       "      <td>...</td>\n",
       "      <td>...</td>\n",
       "      <td>...</td>\n",
       "      <td>...</td>\n",
       "    </tr>\n",
       "    <tr>\n",
       "      <th>2024-09-03</th>\n",
       "      <td>222.770004</td>\n",
       "      <td>70.339996</td>\n",
       "      <td>2489.899902</td>\n",
       "      <td>20.100000</td>\n",
       "      <td>93.180000</td>\n",
       "      <td>8298.500000</td>\n",
       "      <td>5528.930176</td>\n",
       "    </tr>\n",
       "    <tr>\n",
       "      <th>2024-09-04</th>\n",
       "      <td>220.850006</td>\n",
       "      <td>69.199997</td>\n",
       "      <td>2493.399902</td>\n",
       "      <td>19.430000</td>\n",
       "      <td>92.330002</td>\n",
       "      <td>8269.599609</td>\n",
       "      <td>5520.069824</td>\n",
       "    </tr>\n",
       "    <tr>\n",
       "      <th>2024-09-05</th>\n",
       "      <td>222.380005</td>\n",
       "      <td>69.150002</td>\n",
       "      <td>2511.399902</td>\n",
       "      <td>19.400000</td>\n",
       "      <td>91.559998</td>\n",
       "      <td>8241.700195</td>\n",
       "      <td>5503.410156</td>\n",
       "    </tr>\n",
       "    <tr>\n",
       "      <th>2024-09-06</th>\n",
       "      <td>220.820007</td>\n",
       "      <td>67.669998</td>\n",
       "      <td>2493.500000</td>\n",
       "      <td>18.889999</td>\n",
       "      <td>91.150002</td>\n",
       "      <td>8181.500000</td>\n",
       "      <td>5408.419922</td>\n",
       "    </tr>\n",
       "    <tr>\n",
       "      <th>2024-09-09</th>\n",
       "      <td>NaN</td>\n",
       "      <td>68.589996</td>\n",
       "      <td>2525.500000</td>\n",
       "      <td>19.184999</td>\n",
       "      <td>91.180000</td>\n",
       "      <td>8267.910156</td>\n",
       "      <td>NaN</td>\n",
       "    </tr>\n",
       "  </tbody>\n",
       "</table>\n",
       "<p>3778 rows × 7 columns</p>\n",
       "</div>"
      ],
      "text/plain": [
       "                  AAPL       CL=F         GC=F       INTC       SBUX  \\\n",
       "Date                                                                   \n",
       "2010-01-04    6.454507  81.510002  1117.699951  13.519423   8.890196   \n",
       "2010-01-05    6.465663  81.769997  1118.099976  13.512953   9.098469   \n",
       "2010-01-06    6.362821  83.180000  1135.900024  13.467627   9.032903   \n",
       "2010-01-07    6.351056  82.660004  1133.099976  13.338135   9.009759   \n",
       "2010-01-08    6.393280  82.750000  1138.199951  13.487049   8.978904   \n",
       "...                ...        ...          ...        ...        ...   \n",
       "2024-09-03  222.770004  70.339996  2489.899902  20.100000  93.180000   \n",
       "2024-09-04  220.850006  69.199997  2493.399902  19.430000  92.330002   \n",
       "2024-09-05  222.380005  69.150002  2511.399902  19.400000  91.559998   \n",
       "2024-09-06  220.820007  67.669998  2493.500000  18.889999  91.150002   \n",
       "2024-09-09         NaN  68.589996  2525.500000  19.184999  91.180000   \n",
       "\n",
       "                  ^FTSE        ^GSPC  \n",
       "Date                                  \n",
       "2010-01-04  5500.299805  1132.989990  \n",
       "2010-01-05  5522.500000  1136.520020  \n",
       "2010-01-06  5530.000000  1137.140015  \n",
       "2010-01-07  5526.700195  1141.689941  \n",
       "2010-01-08  5534.200195  1144.979980  \n",
       "...                 ...          ...  \n",
       "2024-09-03  8298.500000  5528.930176  \n",
       "2024-09-04  8269.599609  5520.069824  \n",
       "2024-09-05  8241.700195  5503.410156  \n",
       "2024-09-06  8181.500000  5408.419922  \n",
       "2024-09-09  8267.910156          NaN  \n",
       "\n",
       "[3778 rows x 7 columns]"
      ]
     },
     "execution_count": 3,
     "metadata": {},
     "output_type": "execute_result"
    }
   ],
   "source": [
    "df"
   ]
  },
  {
   "cell_type": "markdown",
   "metadata": {},
   "source": [
    "### Individual security Risk & Return "
   ]
  },
  {
   "cell_type": "code",
   "execution_count": 27,
   "metadata": {},
   "outputs": [
    {
     "name": "stderr",
     "output_type": "stream",
     "text": [
      "/Users/ifechiekekwe/anaconda3/lib/python3.11/site-packages/pandas/core/internals/blocks.py:329: RuntimeWarning: invalid value encountered in log\n",
      "  result = func(self.values, **kwargs)\n"
     ]
    },
    {
     "data": {
      "text/html": [
       "<div>\n",
       "<style scoped>\n",
       "    .dataframe tbody tr th:only-of-type {\n",
       "        vertical-align: middle;\n",
       "    }\n",
       "\n",
       "    .dataframe tbody tr th {\n",
       "        vertical-align: top;\n",
       "    }\n",
       "\n",
       "    .dataframe thead th {\n",
       "        text-align: right;\n",
       "    }\n",
       "</style>\n",
       "<table border=\"1\" class=\"dataframe\">\n",
       "  <thead>\n",
       "    <tr style=\"text-align: right;\">\n",
       "      <th></th>\n",
       "      <th>AAPL</th>\n",
       "      <th>CL=F</th>\n",
       "      <th>GC=F</th>\n",
       "      <th>INTC</th>\n",
       "      <th>SBUX</th>\n",
       "      <th>^FTSE</th>\n",
       "      <th>^GSPC</th>\n",
       "    </tr>\n",
       "    <tr>\n",
       "      <th>Date</th>\n",
       "      <th></th>\n",
       "      <th></th>\n",
       "      <th></th>\n",
       "      <th></th>\n",
       "      <th></th>\n",
       "      <th></th>\n",
       "      <th></th>\n",
       "    </tr>\n",
       "  </thead>\n",
       "  <tbody>\n",
       "    <tr>\n",
       "      <th>2010-01-05</th>\n",
       "      <td>0.001727</td>\n",
       "      <td>0.003185</td>\n",
       "      <td>0.000358</td>\n",
       "      <td>-0.000479</td>\n",
       "      <td>0.023157</td>\n",
       "      <td>0.004028</td>\n",
       "      <td>0.003111</td>\n",
       "    </tr>\n",
       "    <tr>\n",
       "      <th>2010-01-06</th>\n",
       "      <td>-0.016034</td>\n",
       "      <td>0.017097</td>\n",
       "      <td>0.015795</td>\n",
       "      <td>-0.003360</td>\n",
       "      <td>-0.007232</td>\n",
       "      <td>0.001357</td>\n",
       "      <td>0.000545</td>\n",
       "    </tr>\n",
       "    <tr>\n",
       "      <th>2010-01-07</th>\n",
       "      <td>-0.001851</td>\n",
       "      <td>-0.006271</td>\n",
       "      <td>-0.002468</td>\n",
       "      <td>-0.009662</td>\n",
       "      <td>-0.002565</td>\n",
       "      <td>-0.000597</td>\n",
       "      <td>0.003993</td>\n",
       "    </tr>\n",
       "    <tr>\n",
       "      <th>2010-01-08</th>\n",
       "      <td>0.006626</td>\n",
       "      <td>0.001088</td>\n",
       "      <td>0.004491</td>\n",
       "      <td>0.011103</td>\n",
       "      <td>-0.003431</td>\n",
       "      <td>0.001356</td>\n",
       "      <td>0.002878</td>\n",
       "    </tr>\n",
       "    <tr>\n",
       "      <th>2010-01-11</th>\n",
       "      <td>-0.008861</td>\n",
       "      <td>-0.002783</td>\n",
       "      <td>0.010922</td>\n",
       "      <td>0.005745</td>\n",
       "      <td>-0.003011</td>\n",
       "      <td>0.000704</td>\n",
       "      <td>0.001745</td>\n",
       "    </tr>\n",
       "    <tr>\n",
       "      <th>...</th>\n",
       "      <td>...</td>\n",
       "      <td>...</td>\n",
       "      <td>...</td>\n",
       "      <td>...</td>\n",
       "      <td>...</td>\n",
       "      <td>...</td>\n",
       "      <td>...</td>\n",
       "    </tr>\n",
       "    <tr>\n",
       "      <th>2024-08-29</th>\n",
       "      <td>0.014465</td>\n",
       "      <td>0.018481</td>\n",
       "      <td>0.009828</td>\n",
       "      <td>0.026172</td>\n",
       "      <td>-0.004628</td>\n",
       "      <td>0.004269</td>\n",
       "      <td>-0.000039</td>\n",
       "    </tr>\n",
       "    <tr>\n",
       "      <th>2024-08-30</th>\n",
       "      <td>-0.003444</td>\n",
       "      <td>-0.031583</td>\n",
       "      <td>-0.012711</td>\n",
       "      <td>0.090648</td>\n",
       "      <td>-0.003062</td>\n",
       "      <td>-0.000358</td>\n",
       "      <td>0.010042</td>\n",
       "    </tr>\n",
       "    <tr>\n",
       "      <th>2024-09-04</th>\n",
       "      <td>-0.008656</td>\n",
       "      <td>-0.016340</td>\n",
       "      <td>0.001405</td>\n",
       "      <td>-0.033902</td>\n",
       "      <td>-0.009164</td>\n",
       "      <td>-0.003489</td>\n",
       "      <td>-0.001604</td>\n",
       "    </tr>\n",
       "    <tr>\n",
       "      <th>2024-09-05</th>\n",
       "      <td>0.006904</td>\n",
       "      <td>-0.000723</td>\n",
       "      <td>0.007193</td>\n",
       "      <td>-0.001545</td>\n",
       "      <td>-0.008375</td>\n",
       "      <td>-0.003379</td>\n",
       "      <td>-0.003023</td>\n",
       "    </tr>\n",
       "    <tr>\n",
       "      <th>2024-09-06</th>\n",
       "      <td>-0.007040</td>\n",
       "      <td>-0.021635</td>\n",
       "      <td>-0.007153</td>\n",
       "      <td>-0.026640</td>\n",
       "      <td>-0.004488</td>\n",
       "      <td>-0.007331</td>\n",
       "      <td>-0.017411</td>\n",
       "    </tr>\n",
       "  </tbody>\n",
       "</table>\n",
       "<p>3468 rows × 7 columns</p>\n",
       "</div>"
      ],
      "text/plain": [
       "                AAPL      CL=F      GC=F      INTC      SBUX     ^FTSE  \\\n",
       "Date                                                                     \n",
       "2010-01-05  0.001727  0.003185  0.000358 -0.000479  0.023157  0.004028   \n",
       "2010-01-06 -0.016034  0.017097  0.015795 -0.003360 -0.007232  0.001357   \n",
       "2010-01-07 -0.001851 -0.006271 -0.002468 -0.009662 -0.002565 -0.000597   \n",
       "2010-01-08  0.006626  0.001088  0.004491  0.011103 -0.003431  0.001356   \n",
       "2010-01-11 -0.008861 -0.002783  0.010922  0.005745 -0.003011  0.000704   \n",
       "...              ...       ...       ...       ...       ...       ...   \n",
       "2024-08-29  0.014465  0.018481  0.009828  0.026172 -0.004628  0.004269   \n",
       "2024-08-30 -0.003444 -0.031583 -0.012711  0.090648 -0.003062 -0.000358   \n",
       "2024-09-04 -0.008656 -0.016340  0.001405 -0.033902 -0.009164 -0.003489   \n",
       "2024-09-05  0.006904 -0.000723  0.007193 -0.001545 -0.008375 -0.003379   \n",
       "2024-09-06 -0.007040 -0.021635 -0.007153 -0.026640 -0.004488 -0.007331   \n",
       "\n",
       "               ^GSPC  \n",
       "Date                  \n",
       "2010-01-05  0.003111  \n",
       "2010-01-06  0.000545  \n",
       "2010-01-07  0.003993  \n",
       "2010-01-08  0.002878  \n",
       "2010-01-11  0.001745  \n",
       "...              ...  \n",
       "2024-08-29 -0.000039  \n",
       "2024-08-30  0.010042  \n",
       "2024-09-04 -0.001604  \n",
       "2024-09-05 -0.003023  \n",
       "2024-09-06 -0.017411  \n",
       "\n",
       "[3468 rows x 7 columns]"
      ]
     },
     "execution_count": 27,
     "metadata": {},
     "output_type": "execute_result"
    }
   ],
   "source": [
    "ret_df = np.log((df / df.shift(1)))\n",
    "ret_df.dropna()"
   ]
  },
  {
   "cell_type": "code",
   "execution_count": 28,
   "metadata": {},
   "outputs": [
    {
     "data": {
      "text/plain": [
       "<Axes: xlabel='Date'>"
      ]
     },
     "execution_count": 28,
     "metadata": {},
     "output_type": "execute_result"
    },
    {
     "data": {
      "image/png": "[encoded data removed]",
      "text/plain": [
       "<Figure size 640x480 with 1 Axes>"
      ]
     },
     "metadata": {},
     "output_type": "display_data"
    }
   ],
   "source": [
    "ret_df.cumsum().plot()"
   ]
  },
  {
   "cell_type": "code",
   "execution_count": 29,
   "metadata": {},
   "outputs": [
    {
     "data": {
      "text/plain": [
       "(AAPL     0.000970\n",
       " CL=F     0.000316\n",
       " GC=F     0.000235\n",
       " INTC     0.000158\n",
       " SBUX     0.000655\n",
       " ^FTSE    0.000100\n",
       " ^GSPC    0.000453\n",
       " dtype: float64,\n",
       " AAPL     0.017665\n",
       " CL=F     0.025634\n",
       " GC=F     0.010030\n",
       " INTC     0.020308\n",
       " SBUX     0.017433\n",
       " ^FTSE    0.009945\n",
       " ^GSPC    0.010982\n",
       " dtype: float64,\n",
       " AAPL     0.054885\n",
       " CL=F     0.012321\n",
       " GC=F     0.023420\n",
       " INTC     0.007766\n",
       " SBUX     0.037602\n",
       " ^FTSE    0.010093\n",
       " ^GSPC    0.041250\n",
       " dtype: float64)"
      ]
     },
     "execution_count": 29,
     "metadata": {},
     "output_type": "execute_result"
    }
   ],
   "source": [
    "ret_df.mean(), ret_df.std(), ret_df.mean() / ret_df.std() "
   ]
  },
  {
   "cell_type": "markdown",
   "metadata": {},
   "source": [
    "### Portfolio Risk & Retrun "
   ]
  },
  {
   "cell_type": "code",
   "execution_count": 35,
   "metadata": {},
   "outputs": [
    {
     "data": {
      "text/plain": [
       "array([0.14285714, 0.14285714, 0.14285714, 0.14285714, 0.14285714,\n",
       "       0.14285714, 0.14285714])"
      ]
     },
     "execution_count": 35,
     "metadata": {},
     "output_type": "execute_result"
    }
   ],
   "source": [
    "#scalable equal weights vector\n",
    "w = np.ones(len(ret_df.columns)) / (np.ones(len(ret_df.columns))).sum()\n",
    "w"
   ]
  },
  {
   "cell_type": "code",
   "execution_count": 36,
   "metadata": {},
   "outputs": [
    {
     "data": {
      "text/html": [
       "<div>\n",
       "<style scoped>\n",
       "    .dataframe tbody tr th:only-of-type {\n",
       "        vertical-align: middle;\n",
       "    }\n",
       "\n",
       "    .dataframe tbody tr th {\n",
       "        vertical-align: top;\n",
       "    }\n",
       "\n",
       "    .dataframe thead th {\n",
       "        text-align: right;\n",
       "    }\n",
       "</style>\n",
       "<table border=\"1\" class=\"dataframe\">\n",
       "  <thead>\n",
       "    <tr style=\"text-align: right;\">\n",
       "      <th></th>\n",
       "      <th>AAPL</th>\n",
       "      <th>CL=F</th>\n",
       "      <th>GC=F</th>\n",
       "      <th>INTC</th>\n",
       "      <th>SBUX</th>\n",
       "      <th>^FTSE</th>\n",
       "      <th>^GSPC</th>\n",
       "    </tr>\n",
       "  </thead>\n",
       "  <tbody>\n",
       "    <tr>\n",
       "      <th>AAPL</th>\n",
       "      <td>0.000312</td>\n",
       "      <td>0.000076</td>\n",
       "      <td>0.000009</td>\n",
       "      <td>0.000164</td>\n",
       "      <td>0.000132</td>\n",
       "      <td>0.000057</td>\n",
       "      <td>0.000133</td>\n",
       "    </tr>\n",
       "    <tr>\n",
       "      <th>CL=F</th>\n",
       "      <td>0.000076</td>\n",
       "      <td>0.000657</td>\n",
       "      <td>0.000035</td>\n",
       "      <td>0.000090</td>\n",
       "      <td>0.000070</td>\n",
       "      <td>0.000078</td>\n",
       "      <td>0.000082</td>\n",
       "    </tr>\n",
       "    <tr>\n",
       "      <th>GC=F</th>\n",
       "      <td>0.000009</td>\n",
       "      <td>0.000035</td>\n",
       "      <td>0.000101</td>\n",
       "      <td>0.000008</td>\n",
       "      <td>-0.000001</td>\n",
       "      <td>0.000004</td>\n",
       "      <td>0.000005</td>\n",
       "    </tr>\n",
       "    <tr>\n",
       "      <th>INTC</th>\n",
       "      <td>0.000164</td>\n",
       "      <td>0.000090</td>\n",
       "      <td>0.000008</td>\n",
       "      <td>0.000412</td>\n",
       "      <td>0.000126</td>\n",
       "      <td>0.000068</td>\n",
       "      <td>0.000141</td>\n",
       "    </tr>\n",
       "    <tr>\n",
       "      <th>SBUX</th>\n",
       "      <td>0.000132</td>\n",
       "      <td>0.000070</td>\n",
       "      <td>-0.000001</td>\n",
       "      <td>0.000126</td>\n",
       "      <td>0.000304</td>\n",
       "      <td>0.000064</td>\n",
       "      <td>0.000122</td>\n",
       "    </tr>\n",
       "    <tr>\n",
       "      <th>^FTSE</th>\n",
       "      <td>0.000057</td>\n",
       "      <td>0.000078</td>\n",
       "      <td>0.000004</td>\n",
       "      <td>0.000068</td>\n",
       "      <td>0.000064</td>\n",
       "      <td>0.000099</td>\n",
       "      <td>0.000064</td>\n",
       "    </tr>\n",
       "    <tr>\n",
       "      <th>^GSPC</th>\n",
       "      <td>0.000133</td>\n",
       "      <td>0.000082</td>\n",
       "      <td>0.000005</td>\n",
       "      <td>0.000141</td>\n",
       "      <td>0.000122</td>\n",
       "      <td>0.000064</td>\n",
       "      <td>0.000121</td>\n",
       "    </tr>\n",
       "  </tbody>\n",
       "</table>\n",
       "</div>"
      ],
      "text/plain": [
       "           AAPL      CL=F      GC=F      INTC      SBUX     ^FTSE     ^GSPC\n",
       "AAPL   0.000312  0.000076  0.000009  0.000164  0.000132  0.000057  0.000133\n",
       "CL=F   0.000076  0.000657  0.000035  0.000090  0.000070  0.000078  0.000082\n",
       "GC=F   0.000009  0.000035  0.000101  0.000008 -0.000001  0.000004  0.000005\n",
       "INTC   0.000164  0.000090  0.000008  0.000412  0.000126  0.000068  0.000141\n",
       "SBUX   0.000132  0.000070 -0.000001  0.000126  0.000304  0.000064  0.000122\n",
       "^FTSE  0.000057  0.000078  0.000004  0.000068  0.000064  0.000099  0.000064\n",
       "^GSPC  0.000133  0.000082  0.000005  0.000141  0.000122  0.000064  0.000121"
      ]
     },
     "execution_count": 36,
     "metadata": {},
     "output_type": "execute_result"
    }
   ],
   "source": [
    "# covariance matrix\n",
    "covar_matrix = ret_df.cov()\n",
    "covar_matrix"
   ]
  },
  {
   "cell_type": "code",
   "execution_count": 37,
   "metadata": {},
   "outputs": [],
   "source": [
    "# Expected Returns\n",
    "        #dot product fucntion method\n",
    "portolio_e = ret_df.mean().dot(w)\n",
    "\n",
    "         #expanded form to show what dot product actually is\n",
    "portolio_e = (w * ret_df.mean()).sum()\n",
    "\n",
    "# all the same "
   ]
  },
  {
   "cell_type": "code",
   "execution_count": 38,
   "metadata": {},
   "outputs": [],
   "source": [
    "porfolio_r = (w.dot(covar_matrix.dot(w)))**0.5"
   ]
  },
  {
   "cell_type": "code",
   "execution_count": 39,
   "metadata": {},
   "outputs": [
    {
     "data": {
      "text/plain": [
       "(0.00041240870875607744, 0.01016446844578605, 0.04057356377814842)"
      ]
     },
     "execution_count": 39,
     "metadata": {},
     "output_type": "execute_result"
    }
   ],
   "source": [
    "portolio_e, porfolio_r, portolio_e / porfolio_r"
   ]
  },
  {
   "cell_type": "markdown",
   "metadata": {},
   "source": [
    "### Markowitz Resampled method"
   ]
  },
  {
   "cell_type": "code",
   "execution_count": null,
   "metadata": {},
   "outputs": [],
   "source": [
    "def mrm (weights, df):\n",
    "    e = weights.dot(df.mean())\n",
    "    std = weights.dot(df.cov().dot(weights))**0.5\n",
    "    sharpe = e / std\n",
    "    return e, std, sharpe"
   ]
  },
  {
   "cell_type": "code",
   "execution_count": null,
   "metadata": {},
   "outputs": [],
   "source": [
    "def give_weights(df):\n",
    "    rand = np.random.random(len(df.columns)) #create a vector of length n of random numbers \n",
    "    rand /= rand.sum() #divding all the these numbers by the sum will ensure all the weights sum to 1.\n",
    "    return rand"
   ]
  },
  {
   "cell_type": "code",
   "execution_count": null,
   "metadata": {},
   "outputs": [],
   "source": [
    "Returns = []\n",
    "Risk = []\n",
    "Sharpe = []\n",
    "Weights = []\n",
    "\n",
    "for i in range(0,5000):\n",
    "    weights = give_weights(ret_df)\n",
    "    a,b,c = mrm(weights,ret_df)\n",
    "    Returns.append(a)\n",
    "    Risk.append(b)\n",
    "    Sharpe.append(c)\n",
    "    Weights.append(weights)\n",
    "\n"
   ]
  },
  {
   "cell_type": "code",
   "execution_count": null,
   "metadata": {},
   "outputs": [],
   "source": [
    "compare = pd.DataFrame({'Returns':Returns,'Risk': Risk ,'Sharpe': Sharpe, 'Weights': Weights})\n",
    "compare.nlargest(1,'Sharpe')"
   ]
  },
  {
   "cell_type": "code",
   "execution_count": null,
   "metadata": {},
   "outputs": [],
   "source": [
    "compare.plot(x= 'Returns', y='Risk', kind='scatter')"
   ]
  },
  {
   "cell_type": "markdown",
   "metadata": {},
   "source": [
    "### Scipy Method"
   ]
  },
  {
   "cell_type": "code",
   "execution_count": 40,
   "metadata": {},
   "outputs": [],
   "source": [
    "def p_sharpe (weights, df):\n",
    "    e = weights.dot(df.mean())\n",
    "    std = weights.dot(df.cov().dot(weights))**0.5\n",
    "    sharpe = e / std\n",
    "    return -sharpe"
   ]
  },
  {
   "cell_type": "code",
   "execution_count": 41,
   "metadata": {},
   "outputs": [
    {
     "data": {
      "text/plain": [
       "array([0.14285714, 0.14285714, 0.14285714, 0.14285714, 0.14285714,\n",
       "       0.14285714, 0.14285714])"
      ]
     },
     "execution_count": 41,
     "metadata": {},
     "output_type": "execute_result"
    }
   ],
   "source": [
    "w = np.ones(len(ret_df.columns)) / (np.ones(len(ret_df.columns))).sum()\n",
    "w"
   ]
  },
  {
   "cell_type": "code",
   "execution_count": 42,
   "metadata": {},
   "outputs": [],
   "source": [
    "cons = ({'type':'eq','fun': lambda x : np.sum(x)-1})"
   ]
  },
  {
   "cell_type": "code",
   "execution_count": 43,
   "metadata": {},
   "outputs": [
    {
     "data": {
      "text/plain": [
       "array([ 0.56966702,  0.01692393,  0.42929626, -0.32634511,  0.21879032,\n",
       "       -0.37854663,  0.47021422])"
      ]
     },
     "execution_count": 43,
     "metadata": {},
     "output_type": "execute_result"
    }
   ],
   "source": [
    "optimal_weights = minimize(p_sharpe,w, ret_df,constraints= cons)['x']\n",
    "optimal_weights"
   ]
  },
  {
   "cell_type": "code",
   "execution_count": null,
   "metadata": {},
   "outputs": [],
   "source": []
  },
  {
   "cell_type": "markdown",
   "metadata": {},
   "source": [
    "### Iterative Method for a 2 stock portfolilo"
   ]
  },
  {
   "cell_type": "markdown",
   "metadata": {},
   "source": [
    "###### How would I make this work for any number of assets?"
   ]
  },
  {
   "cell_type": "code",
   "execution_count": null,
   "metadata": {},
   "outputs": [],
   "source": [
    "def p_sharpe (weights, df):\n",
    "    e = weights.dot(df.mean())\n",
    "    std = weights.dot(df.cov().dot(weights))**0.5\n",
    "    sharpe = e / std\n",
    "    return -sharpe"
   ]
  },
  {
   "cell_type": "code",
   "execution_count": null,
   "metadata": {},
   "outputs": [],
   "source": [
    "w = np.arange(0,1,0.001)"
   ]
  },
  {
   "cell_type": "code",
   "execution_count": null,
   "metadata": {},
   "outputs": [],
   "source": [
    "sharpes = []\n",
    "Weights = []\n",
    "\n",
    "for i in w:\n",
    "    weights = w, 1-w\n",
    "    weights = np.array(weights)   \n",
    "    print(weights)\n",
    "    sharpes.append(p_sharpe(weights,ret_df))\n",
    "    Weights.append(weights)\n"
   ]
  },
  {
   "cell_type": "code",
   "execution_count": null,
   "metadata": {},
   "outputs": [],
   "source": [
    "compare = pd.DataFrame({'Sharpes': sharpes},index= Weights)\n",
    "compare"
   ]
  },
  {
   "cell_type": "code",
   "execution_count": null,
   "metadata": {},
   "outputs": [],
   "source": [
    "compare.nsmallest(1)"
   ]
  },
  {
   "cell_type": "markdown",
   "metadata": {},
   "source": [
    "### Backtest using Scipy Method"
   ]
  },
  {
   "cell_type": "code",
   "execution_count": 44,
   "metadata": {},
   "outputs": [],
   "source": [
    "training_data = ret_df[:int(len(ret_df)*0.7)]\n",
    "testing_data = ret_df[int(len(ret_df)*0.7):]\n"
   ]
  },
  {
   "cell_type": "code",
   "execution_count": 45,
   "metadata": {},
   "outputs": [
    {
     "data": {
      "text/plain": [
       "array([ 0.81983878, -0.37205742,  0.58322235,  0.22796967,  0.8823014 ,\n",
       "       -0.69751886, -0.44375592])"
      ]
     },
     "execution_count": 45,
     "metadata": {},
     "output_type": "execute_result"
    }
   ],
   "source": [
    "predicted_best_weights = minimize(p_sharpe,w,training_data,constraints= cons)['x']\n",
    "predicted_best_weights"
   ]
  },
  {
   "cell_type": "code",
   "execution_count": 55,
   "metadata": {},
   "outputs": [
    {
     "data": {
      "text/plain": [
       "(-0.002592576540122836, -0.057758138355876155)"
      ]
     },
     "execution_count": 55,
     "metadata": {},
     "output_type": "execute_result"
    }
   ],
   "source": [
    "#compare the returns of this optimal weights to the return of equal weights in test data\n",
    "\n",
    "predicted_best_sharpe= p_sharpe(predicted_best_weights,testing_data)\n",
    "\n",
    "equal_weights_sharpe = p_sharpe(w,testing_data) \n",
    "\n",
    "predicted_best_sharpe, equal_weights_sharpe"
   ]
  },
  {
   "cell_type": "markdown",
   "metadata": {},
   "source": [
    "Wow wtf this model is complete ass"
   ]
  },
  {
   "cell_type": "code",
   "execution_count": null,
   "metadata": {},
   "outputs": [],
   "source": [
    "#to add bounds such as no no short selling\n",
    "# minimize(p_sharpe,w,training_data,bounds= Bounds(0,1) ,constraints= cons)"
   ]
  }
 ],
 "metadata": {
  "kernelspec": {
   "display_name": "base",
   "language": "python",
   "name": "python3"
  },
  "language_info": {
   "codemirror_mode": {
    "name": "ipython",
    "version": 3
   },
   "file_extension": ".py",
   "mimetype": "text/x-python",
   "name": "python",
   "nbconvert_exporter": "python",
   "pygments_lexer": "ipython3",
   "version": "3.11.5"
  }
 },
 "nbformat": 4,
 "nbformat_minor": 2
}
