{
 "cells": [
  {
   "cell_type": "markdown",
   "metadata": {},
   "source": []
  },
  {
   "cell_type": "code",
   "execution_count": 6,
   "metadata": {},
   "outputs": [],
   "source": [
    "import yfinance as yf\n",
    "import numpy as np\n",
    "import pandas as pd\n",
    "from scipy.optimize import minimize\n",
    "from scipy.optimize import Bounds "
   ]
  },
  {
   "cell_type": "code",
   "execution_count": 18,
   "metadata": {},
   "outputs": [
    {
     "name": "stderr",
     "output_type": "stream",
     "text": [
      "[*********************100%%**********************]  8 of 8 completed\n"
     ]
    }
   ],
   "source": [
    "stocks = ['AA','AAA','STBX','TSLA','AAPL','LHX','LMT','INTC',]\n",
    "portfolio = yf.download(stocks, start= '2015-01-01')['Adj Close']\n",
    "retdf = portfolio.pct_change()\n",
    "retdf = retdf.dropna()"
   ]
  },
  {
   "cell_type": "code",
   "execution_count": 12,
   "metadata": {},
   "outputs": [],
   "source": [
    "W = []\n",
    "\n",
    "def get_ER():\n",
    "        r = W.dot(retdf.mean())\n",
    "        return r\n",
    "\n",
    "def get_std():\n",
    "    std = (W.dot(retdf.cov().dot(W))**(1/2))\n",
    "    return std\n",
    "\n",
    "def get_sharpe():\n",
    "    sharpe = get_ER()/get_std()\n",
    "    return sharpe\n",
    "\n",
    "def p_covar():\n",
    "     return retdf.cov()"
   ]
  },
  {
   "cell_type": "code",
   "execution_count": 11,
   "metadata": {},
   "outputs": [],
   "source": [
    "def mrm (weights, df):\n",
    "    e = weights.dot(df.mean())\n",
    "    std = weights.dot(df.cov().dot(weights))**0.5\n",
    "    sharpe = e / std\n",
    "    return e, std, sharpe\n",
    "\n",
    "def give_weights(df):\n",
    "    rand = np.random.random(len(df.columns)) #create a vector of length n of random numbers \n",
    "    rand /= rand.sum() #divding all the these numbers by the sum will ensure all the weights sum to 1.\n",
    "    return rand\n",
    "\n"
   ]
  },
  {
   "cell_type": "code",
   "execution_count": null,
   "metadata": {},
   "outputs": [],
   "source": [
    "SReturns = []\n",
    "SRisk = []\n",
    "SSharpe = []\n",
    "SWeights = []\n",
    "\n",
    "for i in range(0,5000):\n",
    "    weights = give_weights(retdf)\n",
    "    a,b,c = mrm(weights,retdf)\n",
    "    SReturns.append(a)\n",
    "    SRisk.append(b)\n",
    "    SSharpe.append(c)\n",
    "    SWeights.append(weights)"
   ]
  },
  {
   "cell_type": "code",
   "execution_count": null,
   "metadata": {},
   "outputs": [],
   "source": [
    "compare = pd.DataFrame({'Returns':Returns,'Risk': Risk ,'Sharpe': Sharpe, 'Weights': Weights})\n",
    "compare.nlargest(1,'Sharpe')"
   ]
  },
  {
   "cell_type": "code",
   "execution_count": null,
   "metadata": {},
   "outputs": [],
   "source": [
    "compare.plot(x= 'Returns', y='Risk', kind='scatter')"
   ]
  },
  {
   "cell_type": "code",
   "execution_count": null,
   "metadata": {},
   "outputs": [],
   "source": [
    "cons = ({'type':'eq','fun': lambda x : np.sum(x)-1})"
   ]
  },
  {
   "cell_type": "code",
   "execution_count": null,
   "metadata": {},
   "outputs": [],
   "source": [
    "optimal_weights = minimize(p_sharpe,w, ret_df,constraints= cons)['x']\n",
    "optimal_weights"
   ]
  },
  {
   "cell_type": "markdown",
   "metadata": {},
   "source": [
    "### Montecarlo Method"
   ]
  },
  {
   "cell_type": "code",
   "execution_count": 9,
   "metadata": {},
   "outputs": [],
   "source": [
    "def get_weights(n):\n",
    "    # Generate n random values that sum to 1 using Dirichlet distribution\n",
    "    random_values = np.random.dirichlet(np.ones(n), size=1)\n",
    "    return random_values[0]"
   ]
  },
  {
   "cell_type": "code",
   "execution_count": 27,
   "metadata": {},
   "outputs": [],
   "source": [
    "Returns = []\n",
    "Risk = []\n",
    "Sharpe = []\n",
    "Weights = []\n",
    "\n",
    "for i in range(0,10000):\n",
    "    weights = get_weights(len(retdf.columns))\n",
    "    a,b,c = mrm(weights,retdf)\n",
    "    Returns.append(a)\n",
    "    Risk.append(b)\n",
    "    Sharpe.append(c)\n",
    "    Weights.append(weights)"
   ]
  },
  {
   "cell_type": "code",
   "execution_count": 28,
   "metadata": {},
   "outputs": [
    {
     "data": {
      "text/plain": [
       "<Axes: xlabel='Risk', ylabel='Expected Return.'>"
      ]
     },
     "execution_count": 28,
     "metadata": {},
     "output_type": "execute_result"
    },
    {
     "data": {
      "image/png": "[encoded data removed]",
      "text/plain": [
       "<Figure size 640x480 with 1 Axes>"
      ]
     },
     "metadata": {},
     "output_type": "display_data"
    }
   ],
   "source": [
    "Stat = pd.DataFrame({'Expected Return.':Returns,\n",
    "                'Risk':Risk,\n",
    "                'Sharpe': Sharpe,\n",
    "                'weights':Weights})\n",
    "\n",
    "Stat.plot(x='Risk',y='Expected Return.',kind='scatter')"
   ]
  },
  {
   "cell_type": "code",
   "execution_count": 29,
   "metadata": {},
   "outputs": [
    {
     "data": {
      "text/html": [
       "<div>\n",
       "<style scoped>\n",
       "    .dataframe tbody tr th:only-of-type {\n",
       "        vertical-align: middle;\n",
       "    }\n",
       "\n",
       "    .dataframe tbody tr th {\n",
       "        vertical-align: top;\n",
       "    }\n",
       "\n",
       "    .dataframe thead th {\n",
       "        text-align: right;\n",
       "    }\n",
       "</style>\n",
       "<table border=\"1\" class=\"dataframe\">\n",
       "  <thead>\n",
       "    <tr style=\"text-align: right;\">\n",
       "      <th></th>\n",
       "      <th>Expected Return.</th>\n",
       "      <th>Risk</th>\n",
       "      <th>Sharpe</th>\n",
       "      <th>weights</th>\n",
       "    </tr>\n",
       "  </thead>\n",
       "  <tbody>\n",
       "    <tr>\n",
       "      <th>0</th>\n",
       "      <td>-0.000696</td>\n",
       "      <td>0.015148</td>\n",
       "      <td>-0.045957</td>\n",
       "      <td>[0.08759624499846289, 0.282652117900616, 0.141...</td>\n",
       "    </tr>\n",
       "    <tr>\n",
       "      <th>1</th>\n",
       "      <td>0.000190</td>\n",
       "      <td>0.014675</td>\n",
       "      <td>0.012952</td>\n",
       "      <td>[0.32675836682915865, 0.30596410953185926, 0.1...</td>\n",
       "    </tr>\n",
       "    <tr>\n",
       "      <th>2</th>\n",
       "      <td>-0.000010</td>\n",
       "      <td>0.011780</td>\n",
       "      <td>-0.000817</td>\n",
       "      <td>[0.15097443504340363, 0.20618859353136426, 0.0...</td>\n",
       "    </tr>\n",
       "    <tr>\n",
       "      <th>3</th>\n",
       "      <td>0.000094</td>\n",
       "      <td>0.018882</td>\n",
       "      <td>0.004978</td>\n",
       "      <td>[0.4404097126018024, 0.18553336034262274, 0.10...</td>\n",
       "    </tr>\n",
       "    <tr>\n",
       "      <th>4</th>\n",
       "      <td>-0.000323</td>\n",
       "      <td>0.016546</td>\n",
       "      <td>-0.019516</td>\n",
       "      <td>[0.033019329783802696, 0.06046874059042304, 0....</td>\n",
       "    </tr>\n",
       "    <tr>\n",
       "      <th>...</th>\n",
       "      <td>...</td>\n",
       "      <td>...</td>\n",
       "      <td>...</td>\n",
       "      <td>...</td>\n",
       "    </tr>\n",
       "    <tr>\n",
       "      <th>9995</th>\n",
       "      <td>0.000041</td>\n",
       "      <td>0.022444</td>\n",
       "      <td>0.001847</td>\n",
       "      <td>[0.5555200338958005, 0.0029710979718998473, 0....</td>\n",
       "    </tr>\n",
       "    <tr>\n",
       "      <th>9996</th>\n",
       "      <td>-0.000275</td>\n",
       "      <td>0.022966</td>\n",
       "      <td>-0.011971</td>\n",
       "      <td>[0.5630529283670634, 0.08381040947499352, 0.15...</td>\n",
       "    </tr>\n",
       "    <tr>\n",
       "      <th>9997</th>\n",
       "      <td>-0.000580</td>\n",
       "      <td>0.012469</td>\n",
       "      <td>-0.046501</td>\n",
       "      <td>[0.04684639781321328, 0.3865998247225873, 0.20...</td>\n",
       "    </tr>\n",
       "    <tr>\n",
       "      <th>9998</th>\n",
       "      <td>0.000042</td>\n",
       "      <td>0.016817</td>\n",
       "      <td>0.002473</td>\n",
       "      <td>[0.24526494563248782, 0.0496689174494272, 0.34...</td>\n",
       "    </tr>\n",
       "    <tr>\n",
       "      <th>9999</th>\n",
       "      <td>0.000277</td>\n",
       "      <td>0.014240</td>\n",
       "      <td>0.019468</td>\n",
       "      <td>[0.11395421982171818, 0.0492821137452267, 0.25...</td>\n",
       "    </tr>\n",
       "  </tbody>\n",
       "</table>\n",
       "<p>10000 rows × 4 columns</p>\n",
       "</div>"
      ],
      "text/plain": [
       "      Expected Return.      Risk    Sharpe  \\\n",
       "0            -0.000696  0.015148 -0.045957   \n",
       "1             0.000190  0.014675  0.012952   \n",
       "2            -0.000010  0.011780 -0.000817   \n",
       "3             0.000094  0.018882  0.004978   \n",
       "4            -0.000323  0.016546 -0.019516   \n",
       "...                ...       ...       ...   \n",
       "9995          0.000041  0.022444  0.001847   \n",
       "9996         -0.000275  0.022966 -0.011971   \n",
       "9997         -0.000580  0.012469 -0.046501   \n",
       "9998          0.000042  0.016817  0.002473   \n",
       "9999          0.000277  0.014240  0.019468   \n",
       "\n",
       "                                                weights  \n",
       "0     [0.08759624499846289, 0.282652117900616, 0.141...  \n",
       "1     [0.32675836682915865, 0.30596410953185926, 0.1...  \n",
       "2     [0.15097443504340363, 0.20618859353136426, 0.0...  \n",
       "3     [0.4404097126018024, 0.18553336034262274, 0.10...  \n",
       "4     [0.033019329783802696, 0.06046874059042304, 0....  \n",
       "...                                                 ...  \n",
       "9995  [0.5555200338958005, 0.0029710979718998473, 0....  \n",
       "9996  [0.5630529283670634, 0.08381040947499352, 0.15...  \n",
       "9997  [0.04684639781321328, 0.3865998247225873, 0.20...  \n",
       "9998  [0.24526494563248782, 0.0496689174494272, 0.34...  \n",
       "9999  [0.11395421982171818, 0.0492821137452267, 0.25...  \n",
       "\n",
       "[10000 rows x 4 columns]"
      ]
     },
     "execution_count": 29,
     "metadata": {},
     "output_type": "execute_result"
    }
   ],
   "source": [
    "Stat"
   ]
  },
  {
   "cell_type": "code",
   "execution_count": 23,
   "metadata": {},
   "outputs": [
    {
     "data": {
      "text/plain": [
       "8"
      ]
     },
     "execution_count": 23,
     "metadata": {},
     "output_type": "execute_result"
    }
   ],
   "source": []
  },
  {
   "cell_type": "code",
   "execution_count": null,
   "metadata": {},
   "outputs": [],
   "source": []
  }
 ],
 "metadata": {
  "kernelspec": {
   "display_name": "base",
   "language": "python",
   "name": "python3"
  },
  "language_info": {
   "codemirror_mode": {
    "name": "ipython",
    "version": 3
   },
   "file_extension": ".py",
   "mimetype": "text/x-python",
   "name": "python",
   "nbconvert_exporter": "python",
   "pygments_lexer": "ipython3",
   "version": "3.11.5"
  }
 },
 "nbformat": 4,
 "nbformat_minor": 2
}
